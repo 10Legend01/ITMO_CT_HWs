{
 "cells": [
  {
   "cell_type": "code",
   "execution_count": 136,
   "metadata": {
    "collapsed": true
   },
   "outputs": [],
   "source": [
    "import numpy as np\n",
    "import matplotlib.pyplot as plt\n",
    "import pandas as pd\n",
    "from sklearn.linear_model import LinearRegression\n",
    "from sklearn.metrics import mean_absolute_percentage_error\n",
    "from math import log2, log10, log, e, exp\n",
    "\n",
    "plt.rcParams[\"figure.figsize\"] = (18, 9)"
   ]
  },
  {
   "cell_type": "code",
   "execution_count": 137,
   "outputs": [],
   "source": [
    "train_path = \"andan-2022-autumn-lab-4/train.csv\"\n",
    "test_path = \"andan-2022-autumn-lab-4/test_x.csv\""
   ],
   "metadata": {
    "collapsed": false,
    "pycharm": {
     "name": "#%%\n"
    }
   }
  },
  {
   "cell_type": "code",
   "execution_count": 138,
   "outputs": [],
   "source": [
    "train_data = pd.read_csv(train_path)\n",
    "test_data = pd.read_csv(test_path)"
   ],
   "metadata": {
    "collapsed": false,
    "pycharm": {
     "name": "#%%\n"
    }
   }
  },
  {
   "cell_type": "code",
   "execution_count": 140,
   "outputs": [],
   "source": [
    "\n",
    "population_mean = 2607030.2667519217\n",
    "towns_with_metro = {\n",
    "    \"Москва\", \"Санкт-Петербург\", \"Новосибирск\", \"Екатеринбург\", \"Казань\", \"Нижний Новгород\", \"Самара\"\n",
    "}\n",
    "# train_data[train_data[\"city\"] == \"Самара\"][\"osm_subway_closest_dist\"].mean() # везде не больше 4\n",
    "\n",
    "search = [ \"per_square_meter_price\" ]\n",
    "params = [\n",
    "    \"city\",\n",
    "\n",
    "    \"total_square\",\n",
    "    \"osm_train_stop_closest_dist\",\n",
    "    \"osm_subway_closest_dist\",\n",
    "    \"osm_city_nearest_population\", # have NaN of 35 count\n",
    "    \"osm_amenity_points_in_0.01\",\n",
    "    \"osm_building_points_in_0.01\",\n",
    "    \"osm_catering_points_in_0.01\",\n",
    "    \"osm_crossing_points_in_0.01\",\n",
    "    \"osm_culture_points_in_0.01\",\n",
    "    \"osm_finance_points_in_0.01\",\n",
    "    \"osm_healthcare_points_in_0.01\",\n",
    "    \"osm_historic_points_in_0.01\",\n",
    "    \"osm_hotels_points_in_0.01\",\n",
    "    \"osm_leisure_points_in_0.01\",\n",
    "    \"osm_offices_points_in_0.01\",\n",
    "    \"osm_shops_points_in_0.01\",\n",
    "    \"osm_train_stop_points_in_0.01\",\n",
    "    \"osm_transport_stop_points_in_0.01\",\n",
    "    \"reform_count_of_houses_1000\",\n",
    "]\n",
    "# new_params = [\n",
    "#     \"is_msk\",\n",
    "#     \"is_spb\"\n",
    "# ]\n",
    "\n",
    "# _dict = dict()\n",
    "# _train_data = pd.read_csv(train_path)\n",
    "# _test_data = pd.read_csv(test_path)\n",
    "# for name in params:\n",
    "#     if name in [ \"city\" ]: # ignore\n",
    "#         continue\n",
    "#     _dict[name] = (min(min(_train_data[name]), min(_test_data[name])), max(max(_train_data[name]), max(_test_data[name])))\n",
    "\n",
    "\n",
    "# # FIXME переделать под заранее определенные min и max\n",
    "# def minmax(col, _min, _max):\n",
    "#\n",
    "#     col[col < _min] = 0\n",
    "#     col[_max < col] = 1\n",
    "#     # from sklearn.preprocessing import minmax_scale\n",
    "#     # col[(_min < col) & (col < _max)] = minmax_scale(col[(_min < col) & (col < _max)], copy=False)\n",
    "#     col[(_min < col) & (col < _max)] = (col[(_min < col) & (col < _max)] - _min) / (_max - _min)\n",
    "#     return col\n",
    "#\n",
    "# def _minmax(val, name):\n",
    "#\n",
    "#     _min, _max = _dict[name]\n",
    "#\n",
    "#     # from sklearn.preprocessing import minmax_scale\n",
    "#     # col[(_min < col) & (col < _max)] = minmax_scale(col[(_min < col) & (col < _max)], copy=False)\n",
    "#     # val[(_min < val) & (val < _max)] = (val[(_min < val) & (val < _max)] - _min) / (_max - _min)\n",
    "#     return (val - _min) / (_max - _min)\n",
    "\n",
    "def city_handler(s):\n",
    "    return [\n",
    "        1 if s in towns_with_metro else 0, # metro in city\n",
    "        1 if s == \"Москва\" else 0,\n",
    "        1 if s == \"Санкт-Петербург\" else 0,\n",
    "    ]\n",
    "\n",
    "def line_handler(line):\n",
    "    ma = []\n",
    "    have_metro = False\n",
    "    for name in params:\n",
    "        if name in [\n",
    "                    # 'per_square_meter_price',\n",
    "                    ]: # ignore\n",
    "            continue\n",
    "        elif name in ['city']:\n",
    "            ma += city_handler(line[name])\n",
    "            if line[name] in towns_with_metro:\n",
    "                have_metro = True\n",
    "        elif name in [\"osm_subway_closest_dist\"]:\n",
    "            ma += [line[name]] if have_metro else [0]\n",
    "            # ma += [_minmax(line[name], name)] if have_metro else [0]\n",
    "        else:\n",
    "            ma += [line[name]]\n",
    "            # ma += [_minmax(line[name], name)]\n",
    "    return ma\n",
    "\n",
    "def getRegression(data, is_train=True):\n",
    "\n",
    "    data = data[params + (search if is_train else [])]\n",
    "\n",
    "    # data = data[data.osm_city_nearest_population.notna()]\n",
    "    data.osm_city_nearest_population.fillna(population_mean, inplace=True)\n",
    "\n",
    "    X = []\n",
    "    for i in range(len(data)):\n",
    "        line = data.iloc[i]\n",
    "        X += [line_handler(line)]\n",
    "        # print(X)\n",
    "\n",
    "    # print(X[0])\n",
    "    X = np.array(X)\n",
    "    # print(X[0])\n",
    "    return X, data['per_square_meter_price'].apply(log) if is_train else None\n",
    "\n",
    "def unlog(x):\n",
    "    return exp(x)"
   ],
   "metadata": {
    "collapsed": false,
    "pycharm": {
     "name": "#%%\n"
    }
   }
  },
  {
   "cell_type": "code",
   "execution_count": 141,
   "outputs": [],
   "source": [
    "reg = LinearRegression(copy_X=False, n_jobs=-1)"
   ],
   "metadata": {
    "collapsed": false,
    "pycharm": {
     "name": "#%%\n"
    }
   }
  },
  {
   "cell_type": "code",
   "execution_count": 142,
   "outputs": [],
   "source": [
    "train_data_original = pd.read_csv(train_path)\n",
    "train_data = train_data_original.copy()"
   ],
   "metadata": {
    "collapsed": false,
    "pycharm": {
     "name": "#%%\n"
    }
   }
  },
  {
   "cell_type": "code",
   "execution_count": 143,
   "outputs": [
    {
     "name": "stderr",
     "output_type": "stream",
     "text": [
      "C:\\Users\\Legend\\AppData\\Local\\Temp\\ipykernel_6404\\1811973803.py:96: SettingWithCopyWarning: \n",
      "A value is trying to be set on a copy of a slice from a DataFrame\n",
      "\n",
      "See the caveats in the documentation: https://pandas.pydata.org/pandas-docs/stable/user_guide/indexing.html#returning-a-view-versus-a-copy\n",
      "  data.osm_city_nearest_population.fillna(population_mean, inplace=True)\n"
     ]
    }
   ],
   "source": [
    "X, per_square_meter_price = getRegression(train_data)"
   ],
   "metadata": {
    "collapsed": false,
    "pycharm": {
     "name": "#%%\n"
    }
   }
  },
  {
   "cell_type": "code",
   "execution_count": 144,
   "outputs": [],
   "source": [
    "X_with_org_original = list(zip(X, list(per_square_meter_price)))"
   ],
   "metadata": {
    "collapsed": false,
    "pycharm": {
     "name": "#%%\n"
    }
   }
  },
  {
   "cell_type": "code",
   "execution_count": 145,
   "outputs": [
    {
     "name": "stdout",
     "output_type": "stream",
     "text": [
      "153.38576945432686\n",
      "151.94773467065772\n",
      "153.53930120248813\n",
      "155.05033137975033\n",
      "153.8499997490724\n",
      "155.55481925575444\n",
      "153.9394663409877\n",
      "154.07883684469329\n",
      "154.93541347273697\n",
      "156.37549869457396\n",
      "Mean: 154.26571710650416\n"
     ]
    }
   ],
   "source": [
    "errors = []\n",
    "def pred(X, per_square_meter_price, test_x, test_y, reg):\n",
    "    reg.fit(X, per_square_meter_price)\n",
    "    prc = list(map(lambda x: x if 0 < x else 0, reg.predict(test_x)))\n",
    "    errors.append(100 * mean_absolute_percentage_error(list(map(unlog, test_y)), list(map(unlog, prc))))\n",
    "    print(errors[-1])\n",
    "\n",
    "for i in range(10):\n",
    "    import random\n",
    "    X_with_org = X_with_org_original.copy()\n",
    "    random.shuffle(X_with_org)\n",
    "    train_comb = X_with_org[int(len(X_with_org)*0.8):]\n",
    "    test_comb = X_with_org[:int(len(X_with_org)*0.8)]\n",
    "    X, per_square_meter_price = zip(*train_comb)\n",
    "    test_x, test_y = zip(*test_comb)\n",
    "\n",
    "    pred(X, per_square_meter_price, test_x, test_y, reg)\n",
    "\n",
    "print(\"Mean:\", sum(errors)/len(errors))\n",
    "# 1) 308.928935118498\n",
    "# 2) add start/end to dists\n",
    "# 299.0469893742038\n",
    "# 3) remove city\n",
    "# 395.15472764739865\n",
    "\n",
    "# 5) without minmax\n",
    "# 253.5033998987495\n",
    "\n",
    "# 6) with more params\n",
    "# 229.1704818166524\n",
    "\n",
    "# 7) 0 in towns without metro\n",
    "# 230.49679403505212\n",
    "\n",
    "# 8) remove negate value\n",
    "# 212.15129672890285\n",
    "\n",
    "# 9) log on answer\n",
    "# 155.1173907344399"
   ],
   "metadata": {
    "collapsed": false,
    "pycharm": {
     "name": "#%%\n"
    }
   }
  },
  {
   "cell_type": "markdown",
   "source": [
    "### Отсюда пойдут предсказания"
   ],
   "metadata": {
    "collapsed": false
   }
  },
  {
   "cell_type": "code",
   "execution_count": 146,
   "outputs": [],
   "source": [
    "train_data = pd.read_csv(train_path)\n",
    "test_data = pd.read_csv(test_path)"
   ],
   "metadata": {
    "collapsed": false,
    "pycharm": {
     "name": "#%%\n"
    }
   }
  },
  {
   "cell_type": "code",
   "execution_count": 147,
   "outputs": [
    {
     "name": "stderr",
     "output_type": "stream",
     "text": [
      "C:\\Users\\Legend\\AppData\\Local\\Temp\\ipykernel_6404\\1811973803.py:96: SettingWithCopyWarning: \n",
      "A value is trying to be set on a copy of a slice from a DataFrame\n",
      "\n",
      "See the caveats in the documentation: https://pandas.pydata.org/pandas-docs/stable/user_guide/indexing.html#returning-a-view-versus-a-copy\n",
      "  data.osm_city_nearest_population.fillna(population_mean, inplace=True)\n"
     ]
    }
   ],
   "source": [
    "X, per_square_meter_price = getRegression(train_data)"
   ],
   "metadata": {
    "collapsed": false,
    "pycharm": {
     "name": "#%%\n"
    }
   }
  },
  {
   "cell_type": "code",
   "execution_count": 148,
   "outputs": [
    {
     "data": {
      "text/plain": "LinearRegression(copy_X=False, n_jobs=-1)",
      "text/html": "<style>#sk-container-id-9 {color: black;background-color: white;}#sk-container-id-9 pre{padding: 0;}#sk-container-id-9 div.sk-toggleable {background-color: white;}#sk-container-id-9 label.sk-toggleable__label {cursor: pointer;display: block;width: 100%;margin-bottom: 0;padding: 0.3em;box-sizing: border-box;text-align: center;}#sk-container-id-9 label.sk-toggleable__label-arrow:before {content: \"▸\";float: left;margin-right: 0.25em;color: #696969;}#sk-container-id-9 label.sk-toggleable__label-arrow:hover:before {color: black;}#sk-container-id-9 div.sk-estimator:hover label.sk-toggleable__label-arrow:before {color: black;}#sk-container-id-9 div.sk-toggleable__content {max-height: 0;max-width: 0;overflow: hidden;text-align: left;background-color: #f0f8ff;}#sk-container-id-9 div.sk-toggleable__content pre {margin: 0.2em;color: black;border-radius: 0.25em;background-color: #f0f8ff;}#sk-container-id-9 input.sk-toggleable__control:checked~div.sk-toggleable__content {max-height: 200px;max-width: 100%;overflow: auto;}#sk-container-id-9 input.sk-toggleable__control:checked~label.sk-toggleable__label-arrow:before {content: \"▾\";}#sk-container-id-9 div.sk-estimator input.sk-toggleable__control:checked~label.sk-toggleable__label {background-color: #d4ebff;}#sk-container-id-9 div.sk-label input.sk-toggleable__control:checked~label.sk-toggleable__label {background-color: #d4ebff;}#sk-container-id-9 input.sk-hidden--visually {border: 0;clip: rect(1px 1px 1px 1px);clip: rect(1px, 1px, 1px, 1px);height: 1px;margin: -1px;overflow: hidden;padding: 0;position: absolute;width: 1px;}#sk-container-id-9 div.sk-estimator {font-family: monospace;background-color: #f0f8ff;border: 1px dotted black;border-radius: 0.25em;box-sizing: border-box;margin-bottom: 0.5em;}#sk-container-id-9 div.sk-estimator:hover {background-color: #d4ebff;}#sk-container-id-9 div.sk-parallel-item::after {content: \"\";width: 100%;border-bottom: 1px solid gray;flex-grow: 1;}#sk-container-id-9 div.sk-label:hover label.sk-toggleable__label {background-color: #d4ebff;}#sk-container-id-9 div.sk-serial::before {content: \"\";position: absolute;border-left: 1px solid gray;box-sizing: border-box;top: 0;bottom: 0;left: 50%;z-index: 0;}#sk-container-id-9 div.sk-serial {display: flex;flex-direction: column;align-items: center;background-color: white;padding-right: 0.2em;padding-left: 0.2em;position: relative;}#sk-container-id-9 div.sk-item {position: relative;z-index: 1;}#sk-container-id-9 div.sk-parallel {display: flex;align-items: stretch;justify-content: center;background-color: white;position: relative;}#sk-container-id-9 div.sk-item::before, #sk-container-id-9 div.sk-parallel-item::before {content: \"\";position: absolute;border-left: 1px solid gray;box-sizing: border-box;top: 0;bottom: 0;left: 50%;z-index: -1;}#sk-container-id-9 div.sk-parallel-item {display: flex;flex-direction: column;z-index: 1;position: relative;background-color: white;}#sk-container-id-9 div.sk-parallel-item:first-child::after {align-self: flex-end;width: 50%;}#sk-container-id-9 div.sk-parallel-item:last-child::after {align-self: flex-start;width: 50%;}#sk-container-id-9 div.sk-parallel-item:only-child::after {width: 0;}#sk-container-id-9 div.sk-dashed-wrapped {border: 1px dashed gray;margin: 0 0.4em 0.5em 0.4em;box-sizing: border-box;padding-bottom: 0.4em;background-color: white;}#sk-container-id-9 div.sk-label label {font-family: monospace;font-weight: bold;display: inline-block;line-height: 1.2em;}#sk-container-id-9 div.sk-label-container {text-align: center;}#sk-container-id-9 div.sk-container {/* jupyter's `normalize.less` sets `[hidden] { display: none; }` but bootstrap.min.css set `[hidden] { display: none !important; }` so we also need the `!important` here to be able to override the default hidden behavior on the sphinx rendered scikit-learn.org. See: https://github.com/scikit-learn/scikit-learn/issues/21755 */display: inline-block !important;position: relative;}#sk-container-id-9 div.sk-text-repr-fallback {display: none;}</style><div id=\"sk-container-id-9\" class=\"sk-top-container\"><div class=\"sk-text-repr-fallback\"><pre>LinearRegression(copy_X=False, n_jobs=-1)</pre><b>In a Jupyter environment, please rerun this cell to show the HTML representation or trust the notebook. <br />On GitHub, the HTML representation is unable to render, please try loading this page with nbviewer.org.</b></div><div class=\"sk-container\" hidden><div class=\"sk-item\"><div class=\"sk-estimator sk-toggleable\"><input class=\"sk-toggleable__control sk-hidden--visually\" id=\"sk-estimator-id-9\" type=\"checkbox\" checked><label for=\"sk-estimator-id-9\" class=\"sk-toggleable__label sk-toggleable__label-arrow\">LinearRegression</label><div class=\"sk-toggleable__content\"><pre>LinearRegression(copy_X=False, n_jobs=-1)</pre></div></div></div></div></div>"
     },
     "execution_count": 148,
     "metadata": {},
     "output_type": "execute_result"
    }
   ],
   "source": [
    "reg.fit(X, per_square_meter_price)"
   ],
   "metadata": {
    "collapsed": false,
    "pycharm": {
     "name": "#%%\n"
    }
   }
  },
  {
   "cell_type": "code",
   "execution_count": 149,
   "outputs": [
    {
     "name": "stderr",
     "output_type": "stream",
     "text": [
      "C:\\Users\\Legend\\AppData\\Local\\Temp\\ipykernel_6404\\1811973803.py:96: SettingWithCopyWarning: \n",
      "A value is trying to be set on a copy of a slice from a DataFrame\n",
      "\n",
      "See the caveats in the documentation: https://pandas.pydata.org/pandas-docs/stable/user_guide/indexing.html#returning-a-view-versus-a-copy\n",
      "  data.osm_city_nearest_population.fillna(population_mean, inplace=True)\n"
     ]
    }
   ],
   "source": [
    "X_test, _ = getRegression(test_data, False)"
   ],
   "metadata": {
    "collapsed": false,
    "pycharm": {
     "name": "#%%\n"
    }
   }
  },
  {
   "cell_type": "code",
   "execution_count": 150,
   "outputs": [],
   "source": [
    "# ma = map(lambda x: x if 0 < x else 0, reg.predict(X_test))\n",
    "ma = map(unlog, reg.predict(X_test))"
   ],
   "metadata": {
    "collapsed": false,
    "pycharm": {
     "name": "#%%\n"
    }
   }
  },
  {
   "cell_type": "code",
   "execution_count": 151,
   "outputs": [
    {
     "name": "stdout",
     "output_type": "stream",
     "text": [
      "       per_square_meter_price     id\n",
      "0                92658.579564      0\n",
      "1                28991.982923      1\n",
      "2                35065.705938      2\n",
      "3                32503.277503      3\n",
      "4                23715.963853      4\n",
      "...                       ...    ...\n",
      "68820            27626.813711  68820\n",
      "68821            35408.046116  68821\n",
      "68822            58798.647219  68822\n",
      "68823           176453.147429  68823\n",
      "68824            44002.034956  68824\n",
      "\n",
      "[68825 rows x 2 columns]\n"
     ]
    }
   ],
   "source": [
    "from itertools import count\n",
    "test_y = pd.DataFrame(zip(ma, count(0)), columns=['per_square_meter_price', 'id'])\n",
    "test_y.to_csv('andan-2022-autumn-lab-4/saved_submission_4lab.csv', index=False)\n",
    "print(test_y)"
   ],
   "metadata": {
    "collapsed": false,
    "pycharm": {
     "name": "#%%\n"
    }
   }
  }
 ],
 "metadata": {
  "kernelspec": {
   "display_name": "Python 3",
   "language": "python",
   "name": "python3"
  },
  "language_info": {
   "codemirror_mode": {
    "name": "ipython",
    "version": 2
   },
   "file_extension": ".py",
   "mimetype": "text/x-python",
   "name": "python",
   "nbconvert_exporter": "python",
   "pygments_lexer": "ipython2",
   "version": "2.7.6"
  }
 },
 "nbformat": 4,
 "nbformat_minor": 0
}