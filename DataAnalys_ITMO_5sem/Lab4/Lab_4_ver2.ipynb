{
 "cells": [
  {
   "cell_type": "code",
   "execution_count": null,
   "metadata": {
    "collapsed": true,
    "pycharm": {
     "is_executing": true
    }
   },
   "outputs": [],
   "source": [
    "import numpy as np\n",
    "import matplotlib.pyplot as plt\n",
    "import pandas as pd\n",
    "from sklearn.linear_model import LinearRegression\n",
    "from sklearn.metrics import mean_absolute_percentage_error\n",
    "\n",
    "plt.rcParams[\"figure.figsize\"] = (18, 9)"
   ]
  },
  {
   "cell_type": "code",
   "execution_count": null,
   "outputs": [],
   "source": [
    "train_path = \"andan-2022-autumn-lab-4/train.csv\"\n",
    "test_path = \"andan-2022-autumn-lab-4/test_x.csv\""
   ],
   "metadata": {
    "collapsed": false,
    "pycharm": {
     "name": "#%%\n",
     "is_executing": true
    }
   }
  },
  {
   "cell_type": "code",
   "execution_count": null,
   "outputs": [],
   "source": [
    "train_data = pd.read_csv(train_path)\n",
    "test_data = pd.read_csv(test_path)"
   ],
   "metadata": {
    "collapsed": false,
    "pycharm": {
     "name": "#%%\n",
     "is_executing": true
    }
   }
  },
  {
   "cell_type": "code",
   "execution_count": null,
   "outputs": [],
   "source": [
    "from math import log2\n",
    "\n",
    "plt.scatter(train_data[train_data.osm_train_stop_closest_dist < 200][\"osm_train_stop_closest_dist\"].apply(log2), train_data[train_data.osm_train_stop_closest_dist < 200].per_square_meter_price )\n",
    "plt.xlabel('osm_train_stop_closest_dist')\n",
    "plt.ylabel('per_square_meter_price')\n",
    "\n",
    "plt.show()\n",
    "\n"
   ],
   "metadata": {
    "collapsed": false,
    "pycharm": {
     "name": "#%%\n",
     "is_executing": true
    }
   }
  },
  {
   "cell_type": "code",
   "execution_count": null,
   "outputs": [],
   "source": [
    "\n",
    "population_mean = 2607030.2667519217\n",
    "towns_with_metro = {\n",
    "    \"Москва\", \"Санкт-Петербург\", \"Новосибирск\", \"Екатеринбург\", \"Казань\", \"Нижний Новгород\", \"Самара\"\n",
    "}\n",
    "# train_data[train_data[\"city\"] == \"Самара\"][\"osm_subway_closest_dist\"].mean() # везде не больше 4\n",
    "\n",
    "search = [ \"per_square_meter_price\" ]\n",
    "params = [\n",
    "    \"city\",\n",
    "\n",
    "    \"total_square\",\n",
    "    \"osm_train_stop_closest_dist\",\n",
    "    \"osm_subway_closest_dist\",\n",
    "    \"osm_city_nearest_population\", # have NaN of 35 count\n",
    "    \"osm_amenity_points_in_0.01\",\n",
    "    \"osm_building_points_in_0.01\",\n",
    "    \"osm_catering_points_in_0.01\",\n",
    "    \"osm_crossing_points_in_0.01\",\n",
    "    \"osm_culture_points_in_0.01\",\n",
    "    \"osm_finance_points_in_0.01\",\n",
    "    \"osm_healthcare_points_in_0.01\",\n",
    "    \"osm_historic_points_in_0.01\",\n",
    "    \"osm_hotels_points_in_0.01\",\n",
    "    \"osm_leisure_points_in_0.01\",\n",
    "    \"osm_offices_points_in_0.01\",\n",
    "    \"osm_shops_points_in_0.01\",\n",
    "    \"osm_train_stop_points_in_0.01\",\n",
    "    \"osm_transport_stop_points_in_0.01\",\n",
    "    \"reform_count_of_houses_1000\",\n",
    "]\n",
    "# new_params = [\n",
    "#     \"is_msk\",\n",
    "#     \"is_spb\"\n",
    "# ]\n",
    "\n",
    "_dict = dict()\n",
    "_train_data = pd.read_csv(train_path)\n",
    "_test_data = pd.read_csv(test_path)\n",
    "for name in params:\n",
    "    if name in [ \"city\" ]: # ignore\n",
    "        continue\n",
    "    _dict[name] = (min(min(_train_data[name]), min(_test_data[name])), max(max(_train_data[name]), max(_test_data[name])))\n",
    "\n",
    "\n",
    "# FIXME переделать под заранее определенные min и max\n",
    "# def minmax(col, _min, _max):\n",
    "def minmax(col, name):\n",
    "\n",
    "    _min, _max = _dict[name]\n",
    "\n",
    "    col[col < _min] = 0\n",
    "    col[_max < col] = 1\n",
    "    # from sklearn.preprocessing import minmax_scale\n",
    "    # col[(_min < col) & (col < _max)] = minmax_scale(col[(_min < col) & (col < _max)], copy=False)\n",
    "    col[(_min < col) & (col < _max)] = (col[(_min < col) & (col < _max)] - _min) / (_max - _min)\n",
    "    return col\n",
    "\n",
    "def city_handler(s):\n",
    "    return [\n",
    "        1 if s in towns_with_metro else 0, # metro in city\n",
    "        1 if s == \"Москва\" else 0,\n",
    "        1 if s == \"Санкт-Петербург\" else 0,\n",
    "    ]\n",
    "\n",
    "def line_handler(line):\n",
    "    ma = []\n",
    "    have_metro = False\n",
    "    for name in params:\n",
    "        if name in [\n",
    "                    # 'per_square_meter_price',\n",
    "                    ]: # ignore\n",
    "            continue\n",
    "        elif name in ['city']:\n",
    "            ma += city_handler(line[name])\n",
    "            if line[name] in towns_with_metro:\n",
    "                have_metro = True\n",
    "        elif name in [\"osm_subway_closest_dist\"]:\n",
    "            ma += [line[name]] if have_metro else [0]\n",
    "            # ma += [minmax(line[name], name)] if have_metro else [0]\n",
    "        else:\n",
    "            ma += [line[name]]\n",
    "            # ma += [minmax(line[name], name)]\n",
    "    return ma\n",
    "\n",
    "def getRegression(data, is_train=True):\n",
    "\n",
    "    data = data[params + (search if is_train else [])]\n",
    "\n",
    "    # data = data[data.osm_city_nearest_population.notna()]\n",
    "    data.osm_city_nearest_population.fillna(population_mean, inplace=True)\n",
    "\n",
    "    # data = data.assign(\n",
    "        ### rewrite\n",
    "        # total_square=minmax(data[\"total_square\"], 0),\n",
    "        # osm_train_stop_closest_dist=minmax(data[\"osm_train_stop_closest_dist\"], 0, 200),\n",
    "        # osm_subway_closest_dist=minmax(data[\"osm_subway_closest_dist\"], 0, 2000),\n",
    "        ### new\n",
    "        # is_msk=np.where((data['city'] == \"Москва\"), 1, 0),\n",
    "        # is_spb=np.where((data['city'] == \"Санкт-Петербург\"), 1, 0),\n",
    "        # is_city_mil_nearby=np.where((data['osm_city_nearest_population'] > 1e6), 1, 0),\n",
    "        # osm_city_closest_dist=minmax(data[\"osm_city_closest_dist\"]),\n",
    "    # )\n",
    "\n",
    "    # data = data[params + new_params]\n",
    "\n",
    "    X = []\n",
    "    for i in range(len(data)):\n",
    "        line = data.iloc[i]\n",
    "        X += [line_handler(line)]\n",
    "        # print(X)\n",
    "\n",
    "    # print(X[0])\n",
    "    X = np.array(X)\n",
    "    # print(X[0])\n",
    "    return X, data['per_square_meter_price'] if is_train else None"
   ],
   "metadata": {
    "collapsed": false,
    "pycharm": {
     "name": "#%%\n",
     "is_executing": true
    }
   }
  },
  {
   "cell_type": "code",
   "execution_count": null,
   "outputs": [],
   "source": [
    "reg = LinearRegression(copy_X=False, n_jobs=-1)"
   ],
   "metadata": {
    "collapsed": false,
    "pycharm": {
     "name": "#%%\n",
     "is_executing": true
    }
   }
  },
  {
   "cell_type": "code",
   "execution_count": null,
   "outputs": [],
   "source": [
    "train_data_original = pd.read_csv(train_path)\n",
    "train_data = train_data_original.copy()"
   ],
   "metadata": {
    "collapsed": false,
    "pycharm": {
     "name": "#%%\n",
     "is_executing": true
    }
   }
  },
  {
   "cell_type": "code",
   "execution_count": null,
   "outputs": [],
   "source": [
    "X, per_square_meter_price = getRegression(train_data)"
   ],
   "metadata": {
    "collapsed": false,
    "pycharm": {
     "name": "#%%\n",
     "is_executing": true
    }
   }
  },
  {
   "cell_type": "code",
   "execution_count": null,
   "outputs": [],
   "source": [
    "X_with_org_original = list(zip(X, list(per_square_meter_price)))"
   ],
   "metadata": {
    "collapsed": false,
    "pycharm": {
     "name": "#%%\n",
     "is_executing": true
    }
   }
  },
  {
   "cell_type": "code",
   "execution_count": null,
   "outputs": [],
   "source": [
    "errors = []\n",
    "def pred(X, per_square_meter_price, test_x, test_y, reg):\n",
    "    reg.fit(X, per_square_meter_price)\n",
    "    prc = reg.predict(test_x)\n",
    "    # errors.append(mean_absolute_percentage_error(test_y, prc))\n",
    "    errors.append(2 ** mean_absolute_percentage_error(2 ** test_y, 2 ** prc))\n",
    "    print(errors[-1])\n",
    "\n",
    "for i in range(10):\n",
    "    import random\n",
    "    X_with_org = X_with_org_original.copy()\n",
    "    random.shuffle(X_with_org)\n",
    "    train_comb = X_with_org[int(len(X_with_org)*0.8):]\n",
    "    test_comb = X_with_org[:int(len(X_with_org)*0.8)]\n",
    "    X, per_square_meter_price = zip(*train_comb)\n",
    "    test_x, test_y = zip(*test_comb)\n",
    "\n",
    "    pred(X, per_square_meter_price, test_x, test_y, reg)\n",
    "\n",
    "print(\"Mean:\", sum(errors)/len(errors))\n",
    "# 1) 3.08928935118498\n",
    "# 2) add start/end to dists\n",
    "# 2.990469893742038\n",
    "# 3) remove city\n",
    "# 3.9515472764739865\n",
    "\n",
    "# 5) without minmax\n",
    "# 2.535033998987495\n",
    "\n",
    "# 6) with more params\n",
    "# 2.291704818166524"
   ],
   "metadata": {
    "collapsed": false,
    "pycharm": {
     "name": "#%%\n",
     "is_executing": true
    }
   }
  },
  {
   "cell_type": "markdown",
   "source": [
    "### Отсюда пойдут предсказания"
   ],
   "metadata": {
    "collapsed": false
   }
  },
  {
   "cell_type": "code",
   "execution_count": null,
   "outputs": [],
   "source": [
    "train_data = pd.read_csv(train_path)\n",
    "test_data = pd.read_csv(test_path)"
   ],
   "metadata": {
    "collapsed": false,
    "pycharm": {
     "name": "#%%\n",
     "is_executing": true
    }
   }
  },
  {
   "cell_type": "code",
   "execution_count": null,
   "outputs": [],
   "source": [
    "X, per_square_meter_price = getRegression(train_data)"
   ],
   "metadata": {
    "collapsed": false,
    "pycharm": {
     "name": "#%%\n",
     "is_executing": true
    }
   }
  },
  {
   "cell_type": "code",
   "execution_count": null,
   "outputs": [],
   "source": [
    "reg.fit(X, per_square_meter_price)"
   ],
   "metadata": {
    "collapsed": false,
    "pycharm": {
     "name": "#%%\n",
     "is_executing": true
    }
   }
  },
  {
   "cell_type": "code",
   "execution_count": null,
   "outputs": [],
   "source": [
    "X_test, _ = getRegression(test_data, False)"
   ],
   "metadata": {
    "collapsed": false,
    "pycharm": {
     "name": "#%%\n",
     "is_executing": true
    }
   }
  },
  {
   "cell_type": "code",
   "execution_count": null,
   "outputs": [],
   "source": [
    "ma = reg.predict(X_test)"
   ],
   "metadata": {
    "collapsed": false,
    "pycharm": {
     "name": "#%%\n",
     "is_executing": true
    }
   }
  },
  {
   "cell_type": "code",
   "execution_count": null,
   "outputs": [],
   "source": [
    "from itertools import count\n",
    "test_y = pd.DataFrame(zip(np.array(ma), count(0)), columns=['per_square_meter_price', 'id'])\n",
    "test_y.to_csv('andan-2022-autumn-lab-4/saved_submission_4lab.csv', index=False)\n",
    "print(test_y)"
   ],
   "metadata": {
    "collapsed": false,
    "pycharm": {
     "name": "#%%\n",
     "is_executing": true
    }
   }
  }
 ],
 "metadata": {
  "kernelspec": {
   "display_name": "Python 3",
   "language": "python",
   "name": "python3"
  },
  "language_info": {
   "codemirror_mode": {
    "name": "ipython",
    "version": 2
   },
   "file_extension": ".py",
   "mimetype": "text/x-python",
   "name": "python",
   "nbconvert_exporter": "python",
   "pygments_lexer": "ipython2",
   "version": "2.7.6"
  }
 },
 "nbformat": 4,
 "nbformat_minor": 0
}