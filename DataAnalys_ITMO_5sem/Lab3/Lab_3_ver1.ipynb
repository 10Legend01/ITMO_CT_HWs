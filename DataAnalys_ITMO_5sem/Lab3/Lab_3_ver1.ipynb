{
 "cells": [
  {
   "cell_type": "code",
   "execution_count": 9,
   "metadata": {
    "collapsed": true
   },
   "outputs": [],
   "source": [
    "import numpy as np\n",
    "import matplotlib.pyplot as plt\n",
    "from matplotlib import cm\n",
    "import pandas as pd\n",
    "import math\n",
    "\n",
    "plt.rcParams[\"figure.figsize\"] = (18, 9)"
   ]
  },
  {
   "cell_type": "code",
   "execution_count": 10,
   "outputs": [],
   "source": [
    "train_path = \"andan-2022-autumn-lab-3/train.csv\"\n",
    "test_path = \"andan-2022-autumn-lab-3/test_x.csv\""
   ],
   "metadata": {
    "collapsed": false,
    "pycharm": {
     "name": "#%%\n"
    }
   }
  },
  {
   "cell_type": "code",
   "execution_count": 11,
   "outputs": [],
   "source": [
    "train_data = pd.read_csv(train_path)\n",
    "test_data = pd.read_csv(test_path)"
   ],
   "metadata": {
    "collapsed": false,
    "pycharm": {
     "name": "#%%\n"
    }
   }
  },
  {
   "cell_type": "code",
   "execution_count": null,
   "outputs": [],
   "source": [
    "train_rubrics_set = set()\n",
    "for i in train_data['rubrics']:\n",
    "    train_rubrics_set.add(i)\n",
    "\n",
    "def rubrics_handler(s):\n",
    "    return [0.5 if s == i else 0 for i in train_rubrics_set]\n",
    "\n",
    "columns = train_data.columns\n",
    "name_to_id = dict()\n",
    "org_id = None\n",
    "rt = None\n",
    "rubrics = None\n",
    "def line_handler(line):\n",
    "    # global columns\n",
    "    # global name_to_id\n",
    "    ma = []\n",
    "    for name in columns:\n",
    "        # print(name, ma)\n",
    "        if name in ['rating_org',\n",
    "                    'user_id',\n",
    "                    'average_bill',\n",
    "                    'ts',\n",
    "                    'org_id',\n",
    "                    ]: # ignore\n",
    "            continue\n",
    "\n",
    "        name_to_id[name] = len(ma)\n",
    "        if False: pass\n",
    "        elif name in ['rating']:\n",
    "            ma += [int(line[name])]\n",
    "        elif name in ['rubrics']:\n",
    "            ma += rubrics_handler(line[name])\n",
    "        elif name in ['org_city', 'user_city']:\n",
    "            ma += [0 if line[name] == 'msk' else 1]\n",
    "        else:\n",
    "            ma += [line[name]]\n",
    "    global org_id, rubrics, rt\n",
    "    # org_id = name_to_id['org_id']\n",
    "    rubrics = name_to_id['rubrics']\n",
    "    rt = name_to_id['rating']\n",
    "    return ma\n",
    "\n",
    "def metric(ma1, ma2):\n",
    "    dist = 0\n",
    "    global org_id, rubrics, rt\n",
    "    for i in range(len(ma1)):\n",
    "        if ma1[i] != ma2[i]:\n",
    "            if org_id == i:\n",
    "                dist += 100\n",
    "            if rt == i:\n",
    "                dist += abs(ma1[i] - ma2[i])\n",
    "            elif i in range(rubrics, rubrics + len(train_rubrics_set)):\n",
    "                dist += 0.5\n",
    "            else:\n",
    "                dist += 1\n",
    "    return dist\n",
    "\n",
    "def getRegression(data):\n",
    "    X = []\n",
    "    # columns = train_data.columns\n",
    "    for i in data.index:\n",
    "        line = data.iloc[i]\n",
    "        X += [line_handler(line)]\n",
    "        # print(X)\n",
    "\n",
    "    print(X[0])\n",
    "    X = np.array(X)\n",
    "    print(X[0])\n",
    "    # neigh = KNeighborsRegressor(n_neighbors=5, metric=metric, n_jobs=-1)\n",
    "    # neigh.fit(X, rating_org)\n",
    "    # return neigh\n",
    "    return X\n",
    "\n",
    "#reg = getRegression(train_data, train_data['rating_org'])\n",
    "X, rating_org = getRegression(train_data), train_data['rating_org']"
   ],
   "metadata": {
    "collapsed": false,
    "pycharm": {
     "name": "#%%\n",
     "is_executing": true
    }
   }
  },
  {
   "cell_type": "code",
   "execution_count": null,
   "outputs": [],
   "source": [
    "from sklearn.neighbors import KNeighborsRegressor\n",
    "# 1) n_neighbors=5, weights='uniform', p=2\n",
    "# 2) n_neighbors=int(len(train_data)**0.5), weights='uniform', p=2\n",
    "# 3) n_neighbors=int(len(train_data)**0.5), weights='uniform', p=2\n",
    "# 4) n_neighbors=int(len(train_data)**0.5), weights='uniform', p=1\n",
    "### BEST SCORE FOR FIRST 4 PUSHES\n",
    "neigh = KNeighborsRegressor(n_neighbors=int(len(train_data)**0.5),\n",
    "                            weights='distance',\n",
    "                            # metric=metric,\n",
    "                            p=1,\n",
    "                            n_jobs=-1,\n",
    "                            )\n",
    "neigh.fit(X, rating_org)"
   ],
   "metadata": {
    "collapsed": false,
    "pycharm": {
     "name": "#%%\n",
     "is_executing": true
    }
   }
  },
  {
   "cell_type": "code",
   "execution_count": null,
   "outputs": [],
   "source": [
    "from sklearn.metrics import mean_absolute_percentage_error\n",
    "prc = neigh.predict([line_handler(train_data.iloc[i]) for i in train_data.index])\n",
    "mean_absolute_percentage_error(train_data[\"rating_org\"], prc)"
   ],
   "metadata": {
    "collapsed": false,
    "pycharm": {
     "name": "#%%\n",
     "is_executing": true
    }
   }
  },
  {
   "cell_type": "code",
   "execution_count": 30,
   "outputs": [],
   "source": [
    "ma = neigh.predict([line_handler(train_data.iloc[i]) for i in test_data.index])\n",
    "# ma = neigh.predict([line_handler(train_data.iloc[i]) for i in test_data.index[:100]])\n",
    "\n",
    "rating_pred = pd.DataFrame(np.array(ma), columns=['rating_org'])"
   ],
   "metadata": {
    "collapsed": false,
    "pycharm": {
     "name": "#%%\n"
    }
   }
  },
  {
   "cell_type": "code",
   "execution_count": null,
   "outputs": [],
   "source": [
    "from itertools import count\n",
    "rating_pred = pd.DataFrame(zip(count(0), np.array(ma)), columns=['id', 'rating_org'])\n",
    "rating_pred.to_csv('andan-2022-autumn-lab-3/saved_ratings.csv', index=False)\n",
    "print(rating_pred)"
   ],
   "metadata": {
    "collapsed": false,
    "pycharm": {
     "name": "#%%\n",
     "is_executing": true
    }
   }
  }
 ],
 "metadata": {
  "kernelspec": {
   "display_name": "Python 3",
   "language": "python",
   "name": "python3"
  },
  "language_info": {
   "codemirror_mode": {
    "name": "ipython",
    "version": 2
   },
   "file_extension": ".py",
   "mimetype": "text/x-python",
   "name": "python",
   "nbconvert_exporter": "python",
   "pygments_lexer": "ipython2",
   "version": "2.7.6"
  }
 },
 "nbformat": 4,
 "nbformat_minor": 0
}