{
 "cells": [
  {
   "cell_type": "code",
   "execution_count": 2,
   "metadata": {
    "collapsed": true
   },
   "outputs": [],
   "source": [
    "import numpy as np\n",
    "import matplotlib.pyplot as plt\n",
    "from matplotlib import cm\n",
    "import pandas as pd\n",
    "import math\n",
    "\n",
    "plt.rcParams[\"figure.figsize\"] = (18, 9)"
   ]
  },
  {
   "cell_type": "code",
   "execution_count": 3,
   "outputs": [],
   "source": [
    "train_path = \"andan-2022-autumn-lab-3/train.csv\"\n",
    "test_path = \"andan-2022-autumn-lab-3/test_x.csv\""
   ],
   "metadata": {
    "collapsed": false,
    "pycharm": {
     "name": "#%%\n"
    }
   }
  },
  {
   "cell_type": "code",
   "execution_count": 4,
   "outputs": [],
   "source": [
    "train_data = pd.read_csv(train_path)\n",
    "test_data = pd.read_csv(test_path)"
   ],
   "metadata": {
    "collapsed": false,
    "pycharm": {
     "name": "#%%\n"
    }
   }
  },
  {
   "cell_type": "code",
   "execution_count": 51,
   "outputs": [],
   "source": [
    "train_rubrics_set = set()\n",
    "for i in train_data['rubrics']:\n",
    "    train_rubrics_set.add(i)\n",
    "\n",
    "def rubrics_handler(s):\n",
    "    return [0.5 if s == i else 0 for i in train_rubrics_set]\n",
    "\n",
    "columns = train_data.columns\n",
    "name_to_id = dict()\n",
    "org_id = None\n",
    "rt = None\n",
    "rubrics = None\n",
    "def line_handler(line):\n",
    "    # global columns\n",
    "    # global name_to_id\n",
    "    ma = []\n",
    "    for name in columns:\n",
    "        # print(name, ma)\n",
    "        if name in ['rating_org',\n",
    "                    'user_id',\n",
    "                    'average_bill',\n",
    "                    'ts',\n",
    "                    'org_id',\n",
    "                    ]: # ignore\n",
    "            continue\n",
    "\n",
    "        name_to_id[name] = len(ma)\n",
    "        if False: pass\n",
    "        elif name in ['rating']:\n",
    "            ma += [int(line[name])]\n",
    "            # ma += [int(line[name]) * 0.1]\n",
    "        elif name in ['rubrics']:\n",
    "            ma += rubrics_handler(line[name])\n",
    "        elif name in ['org_city', 'user_city']:\n",
    "            ma += [0 if line[name] == 'msk' else 1]\n",
    "        else:\n",
    "            ma += [line[name]]\n",
    "    global org_id, rubrics, rt\n",
    "    # org_id = name_to_id['org_id']\n",
    "    rubrics = name_to_id['rubrics']\n",
    "    rt = name_to_id['rating']\n",
    "    return ma\n",
    "\n",
    "def getRegression(data):\n",
    "    X = []\n",
    "    # columns = train_data.columns\n",
    "    for i in data.index:\n",
    "        line = data.iloc[i]\n",
    "        X += [line_handler(line)]\n",
    "        # print(X)\n",
    "\n",
    "    print(X[0])\n",
    "    X = np.array(X)\n",
    "    print(X[0])\n",
    "    # neigh = KNeighborsRegressor(n_neighbors=5, metric=metric, n_jobs=-1)\n",
    "    # neigh.fit(X, rating_org)\n",
    "    # return neigh\n",
    "    return X\n"
   ],
   "metadata": {
    "collapsed": false,
    "pycharm": {
     "name": "#%%\n"
    }
   }
  },
  {
   "cell_type": "code",
   "execution_count": 56,
   "outputs": [],
   "source": [
    "train_data_original = pd.read_csv(train_path)\n",
    "train_data = train_data_original.copy()"
   ],
   "metadata": {
    "collapsed": false,
    "pycharm": {
     "name": "#%%\n"
    }
   }
  },
  {
   "cell_type": "code",
   "execution_count": 57,
   "outputs": [
    {
     "name": "stdout",
     "output_type": "stream",
     "text": [
      "[0.4, 0, 0, 0, 0, 0, 0, 0.5, 0, 0, 0, 0, 0, 0, 0, 0, 0, 1, 1, 1, 0, 1, 1, 0, 0, 1, 1, 0, 1, 0, 0, 0, 0, 0, 0, 0, 0, 0, 0, 0, 0, 0, 0, 0, 0, 0, 0, 0, 0, 0, 0, 0, 0, 0, 0, 0, 0, 0, 0, 0, 0, 0, 0, 0, 0, 0, 0, 0, 0, 0, 0, 0, 0, 0, 0, 0, 0, 0, 0, 0]\n",
      "[0.4 0.  0.  0.  0.  0.  0.  0.5 0.  0.  0.  0.  0.  0.  0.  0.  0.  1.\n",
      " 1.  1.  0.  1.  1.  0.  0.  1.  1.  0.  1.  0.  0.  0.  0.  0.  0.  0.\n",
      " 0.  0.  0.  0.  0.  0.  0.  0.  0.  0.  0.  0.  0.  0.  0.  0.  0.  0.\n",
      " 0.  0.  0.  0.  0.  0.  0.  0.  0.  0.  0.  0.  0.  0.  0.  0.  0.  0.\n",
      " 0.  0.  0.  0.  0.  0.  0.  0. ]\n"
     ]
    }
   ],
   "source": [
    "X, rating_org = getRegression(train_data), train_data['rating_org']\n"
   ],
   "metadata": {
    "collapsed": false,
    "pycharm": {
     "name": "#%%\n"
    }
   }
  },
  {
   "cell_type": "code",
   "execution_count": 58,
   "outputs": [],
   "source": [
    "X_with_org_original = list(zip(X, list(rating_org)))"
   ],
   "metadata": {
    "collapsed": false,
    "pycharm": {
     "name": "#%%\n"
    }
   }
  },
  {
   "cell_type": "code",
   "execution_count": 59,
   "outputs": [
    {
     "name": "stdout",
     "output_type": "stream",
     "text": [
      "0.04491370608322636\n",
      "0.04502860305588225\n",
      "0.044996010509156525\n",
      "0.04487724987616019\n",
      "0.04497818068732718\n",
      "0.04509775973618921\n",
      "0.04513572643030087\n",
      "0.04479199945161292\n",
      "0.04534759328646655\n",
      "0.04495518862752081\n",
      "Mean: 0.04501220177438429\n"
     ]
    }
   ],
   "source": [
    "errors = []\n",
    "def pred(X, rating_org, test, rating_pred, neigh):\n",
    "    neigh.fit(X, rating_org)\n",
    "    from sklearn.metrics import mean_absolute_percentage_error\n",
    "    prc = neigh.predict(test)\n",
    "    errors.append(mean_absolute_percentage_error(rating_pred, prc))\n",
    "    print(errors[-1])\n",
    "\n",
    "for i in range(10):\n",
    "    import random\n",
    "    X_with_org = X_with_org_original.copy()\n",
    "    random.shuffle(X_with_org)\n",
    "    train_comb = X_with_org[int(len(X_with_org)*0.8):]\n",
    "    test_comb = X_with_org[:int(len(X_with_org)*0.8)]\n",
    "    X, rating_org = zip(*train_comb)\n",
    "    test, rating_pred = zip(*test_comb)\n",
    "\n",
    "    from sklearn.neighbors import KNeighborsRegressor\n",
    "    neigh = KNeighborsRegressor(n_neighbors=int(len(train_comb)**0.5),\n",
    "                                # weights='distance',\n",
    "                                p=1,\n",
    "                                n_jobs=-1,\n",
    "                                )\n",
    "\n",
    "    pred(X, rating_org, test, rating_pred, neigh)\n",
    "\n",
    "print(\"Mean:\", sum(errors)/len(errors))\n",
    "# 1) n_neighbors=int(len(train_comb)**0.5), weights='uniform', p=2\n",
    "# 0.04532506380033315\n",
    "###\n",
    "# 2) n_neighbors=int(len(train_data)**0.5), weights='uniform', p=1\n",
    "# 0.04486101819674648\n",
    "###\n",
    "# 3) n_neighbors=int(len(train_data)**0.5), weights='distance', p=2\n",
    "# 0.037119345809190775\n",
    "###\n",
    "# 4) n_neighbors=int(len(train_data)**0.5), weights='distance', p=1\n",
    "# 0.03673000806608671\n",
    "### (4) 6.96103 versus 6.17398 (2)\n",
    "\n",
    "###\n",
    "# 5) n_neighbors=int(len(train_data)**0.5), weights='uniform', p=1, rating*0.1\n",
    "# 0.04501220177438429"
   ],
   "metadata": {
    "collapsed": false,
    "pycharm": {
     "name": "#%%\n"
    }
   }
  },
  {
   "cell_type": "markdown",
   "source": [
    "Предсказание test_x.scv:"
   ],
   "metadata": {
    "collapsed": false
   }
  },
  {
   "cell_type": "code",
   "execution_count": 61,
   "outputs": [],
   "source": [
    "train_data = pd.read_csv(train_path)\n",
    "test_data = pd.read_csv(test_path)"
   ],
   "metadata": {
    "collapsed": false,
    "pycharm": {
     "name": "#%%\n"
    }
   }
  },
  {
   "cell_type": "code",
   "execution_count": 62,
   "outputs": [
    {
     "name": "stdout",
     "output_type": "stream",
     "text": [
      "[0.4, 0, 0, 0, 0, 0, 0, 0.5, 0, 0, 0, 0, 0, 0, 0, 0, 0, 1, 1, 1, 0, 1, 1, 0, 0, 1, 1, 0, 1, 0, 0, 0, 0, 0, 0, 0, 0, 0, 0, 0, 0, 0, 0, 0, 0, 0, 0, 0, 0, 0, 0, 0, 0, 0, 0, 0, 0, 0, 0, 0, 0, 0, 0, 0, 0, 0, 0, 0, 0, 0, 0, 0, 0, 0, 0, 0, 0, 0, 0, 0]\n",
      "[0.4 0.  0.  0.  0.  0.  0.  0.5 0.  0.  0.  0.  0.  0.  0.  0.  0.  1.\n",
      " 1.  1.  0.  1.  1.  0.  0.  1.  1.  0.  1.  0.  0.  0.  0.  0.  0.  0.\n",
      " 0.  0.  0.  0.  0.  0.  0.  0.  0.  0.  0.  0.  0.  0.  0.  0.  0.  0.\n",
      " 0.  0.  0.  0.  0.  0.  0.  0.  0.  0.  0.  0.  0.  0.  0.  0.  0.  0.\n",
      " 0.  0.  0.  0.  0.  0.  0.  0. ]\n"
     ]
    }
   ],
   "source": [
    "X, rating_org = getRegression(train_data), train_data['rating_org']"
   ],
   "metadata": {
    "collapsed": false,
    "pycharm": {
     "name": "#%%\n"
    }
   }
  },
  {
   "cell_type": "code",
   "execution_count": 63,
   "outputs": [
    {
     "data": {
      "text/plain": "KNeighborsRegressor(n_jobs=-1, n_neighbors=272, p=1)",
      "text/html": "<style>#sk-container-id-5 {color: black;background-color: white;}#sk-container-id-5 pre{padding: 0;}#sk-container-id-5 div.sk-toggleable {background-color: white;}#sk-container-id-5 label.sk-toggleable__label {cursor: pointer;display: block;width: 100%;margin-bottom: 0;padding: 0.3em;box-sizing: border-box;text-align: center;}#sk-container-id-5 label.sk-toggleable__label-arrow:before {content: \"▸\";float: left;margin-right: 0.25em;color: #696969;}#sk-container-id-5 label.sk-toggleable__label-arrow:hover:before {color: black;}#sk-container-id-5 div.sk-estimator:hover label.sk-toggleable__label-arrow:before {color: black;}#sk-container-id-5 div.sk-toggleable__content {max-height: 0;max-width: 0;overflow: hidden;text-align: left;background-color: #f0f8ff;}#sk-container-id-5 div.sk-toggleable__content pre {margin: 0.2em;color: black;border-radius: 0.25em;background-color: #f0f8ff;}#sk-container-id-5 input.sk-toggleable__control:checked~div.sk-toggleable__content {max-height: 200px;max-width: 100%;overflow: auto;}#sk-container-id-5 input.sk-toggleable__control:checked~label.sk-toggleable__label-arrow:before {content: \"▾\";}#sk-container-id-5 div.sk-estimator input.sk-toggleable__control:checked~label.sk-toggleable__label {background-color: #d4ebff;}#sk-container-id-5 div.sk-label input.sk-toggleable__control:checked~label.sk-toggleable__label {background-color: #d4ebff;}#sk-container-id-5 input.sk-hidden--visually {border: 0;clip: rect(1px 1px 1px 1px);clip: rect(1px, 1px, 1px, 1px);height: 1px;margin: -1px;overflow: hidden;padding: 0;position: absolute;width: 1px;}#sk-container-id-5 div.sk-estimator {font-family: monospace;background-color: #f0f8ff;border: 1px dotted black;border-radius: 0.25em;box-sizing: border-box;margin-bottom: 0.5em;}#sk-container-id-5 div.sk-estimator:hover {background-color: #d4ebff;}#sk-container-id-5 div.sk-parallel-item::after {content: \"\";width: 100%;border-bottom: 1px solid gray;flex-grow: 1;}#sk-container-id-5 div.sk-label:hover label.sk-toggleable__label {background-color: #d4ebff;}#sk-container-id-5 div.sk-serial::before {content: \"\";position: absolute;border-left: 1px solid gray;box-sizing: border-box;top: 0;bottom: 0;left: 50%;z-index: 0;}#sk-container-id-5 div.sk-serial {display: flex;flex-direction: column;align-items: center;background-color: white;padding-right: 0.2em;padding-left: 0.2em;position: relative;}#sk-container-id-5 div.sk-item {position: relative;z-index: 1;}#sk-container-id-5 div.sk-parallel {display: flex;align-items: stretch;justify-content: center;background-color: white;position: relative;}#sk-container-id-5 div.sk-item::before, #sk-container-id-5 div.sk-parallel-item::before {content: \"\";position: absolute;border-left: 1px solid gray;box-sizing: border-box;top: 0;bottom: 0;left: 50%;z-index: -1;}#sk-container-id-5 div.sk-parallel-item {display: flex;flex-direction: column;z-index: 1;position: relative;background-color: white;}#sk-container-id-5 div.sk-parallel-item:first-child::after {align-self: flex-end;width: 50%;}#sk-container-id-5 div.sk-parallel-item:last-child::after {align-self: flex-start;width: 50%;}#sk-container-id-5 div.sk-parallel-item:only-child::after {width: 0;}#sk-container-id-5 div.sk-dashed-wrapped {border: 1px dashed gray;margin: 0 0.4em 0.5em 0.4em;box-sizing: border-box;padding-bottom: 0.4em;background-color: white;}#sk-container-id-5 div.sk-label label {font-family: monospace;font-weight: bold;display: inline-block;line-height: 1.2em;}#sk-container-id-5 div.sk-label-container {text-align: center;}#sk-container-id-5 div.sk-container {/* jupyter's `normalize.less` sets `[hidden] { display: none; }` but bootstrap.min.css set `[hidden] { display: none !important; }` so we also need the `!important` here to be able to override the default hidden behavior on the sphinx rendered scikit-learn.org. See: https://github.com/scikit-learn/scikit-learn/issues/21755 */display: inline-block !important;position: relative;}#sk-container-id-5 div.sk-text-repr-fallback {display: none;}</style><div id=\"sk-container-id-5\" class=\"sk-top-container\"><div class=\"sk-text-repr-fallback\"><pre>KNeighborsRegressor(n_jobs=-1, n_neighbors=272, p=1)</pre><b>In a Jupyter environment, please rerun this cell to show the HTML representation or trust the notebook. <br />On GitHub, the HTML representation is unable to render, please try loading this page with nbviewer.org.</b></div><div class=\"sk-container\" hidden><div class=\"sk-item\"><div class=\"sk-estimator sk-toggleable\"><input class=\"sk-toggleable__control sk-hidden--visually\" id=\"sk-estimator-id-5\" type=\"checkbox\" checked><label for=\"sk-estimator-id-5\" class=\"sk-toggleable__label sk-toggleable__label-arrow\">KNeighborsRegressor</label><div class=\"sk-toggleable__content\"><pre>KNeighborsRegressor(n_jobs=-1, n_neighbors=272, p=1)</pre></div></div></div></div></div>"
     },
     "execution_count": 63,
     "metadata": {},
     "output_type": "execute_result"
    }
   ],
   "source": [
    "from sklearn.neighbors import KNeighborsRegressor\n",
    "neigh = KNeighborsRegressor(n_neighbors=int(len(train_data)**0.5),\n",
    "                            # weights='distance',\n",
    "                            p=1,\n",
    "                            n_jobs=-1,\n",
    "                            )\n",
    "neigh.fit(X, rating_org)"
   ],
   "metadata": {
    "collapsed": false,
    "pycharm": {
     "name": "#%%\n"
    }
   }
  },
  {
   "cell_type": "code",
   "execution_count": 64,
   "outputs": [
    {
     "name": "stdout",
     "output_type": "stream",
     "text": [
      "[0.5, 1, 1, 0, 0, 0, 0, 0.5, 0, 0, 0, 0, 0, 0, 0, 0, 0, 1, 1, 1, 1, 1, 1, 1, 1, 1, 1, 1, 1, 0, 0, 0, 0, 0, 0, 0, 0, 0, 0, 0, 0, 0, 0, 0, 0, 0, 0, 0, 0, 0, 0, 0, 0, 0, 0, 0, 0, 0, 0, 0, 0, 0, 0, 0, 0, 0, 0, 0, 0, 0, 0, 0, 0, 0, 0, 0, 0, 0, 0, 0]\n",
      "[0.5 1.  1.  0.  0.  0.  0.  0.5 0.  0.  0.  0.  0.  0.  0.  0.  0.  1.\n",
      " 1.  1.  1.  1.  1.  1.  1.  1.  1.  1.  1.  0.  0.  0.  0.  0.  0.  0.\n",
      " 0.  0.  0.  0.  0.  0.  0.  0.  0.  0.  0.  0.  0.  0.  0.  0.  0.  0.\n",
      " 0.  0.  0.  0.  0.  0.  0.  0.  0.  0.  0.  0.  0.  0.  0.  0.  0.  0.\n",
      " 0.  0.  0.  0.  0.  0.  0.  0. ]\n"
     ]
    }
   ],
   "source": [
    "ma = neigh.predict(getRegression(test_data))"
   ],
   "metadata": {
    "collapsed": false,
    "pycharm": {
     "name": "#%%\n"
    }
   }
  },
  {
   "cell_type": "code",
   "execution_count": 65,
   "outputs": [
    {
     "name": "stdout",
     "output_type": "stream",
     "text": [
      "          id  rating_org\n",
      "0          0    4.348607\n",
      "1          1    4.368170\n",
      "2          2    4.098761\n",
      "3          3    4.322344\n",
      "4          4    4.568826\n",
      "...      ...         ...\n",
      "24660  24660    4.131525\n",
      "24661  24661    4.497799\n",
      "24662  24662    4.361395\n",
      "24663  24663    4.462154\n",
      "24664  24664    4.427409\n",
      "\n",
      "[24665 rows x 2 columns]\n"
     ]
    }
   ],
   "source": [
    "from itertools import count\n",
    "rating_pred = pd.DataFrame(zip(count(0), np.array(ma)), columns=['id', 'rating_org'])\n",
    "rating_pred.to_csv('andan-2022-autumn-lab-3/saved_ratings.csv', index=False)\n",
    "print(rating_pred)"
   ],
   "metadata": {
    "collapsed": false,
    "pycharm": {
     "name": "#%%\n"
    }
   }
  }
 ],
 "metadata": {
  "kernelspec": {
   "display_name": "Python 3",
   "language": "python",
   "name": "python3"
  },
  "language_info": {
   "codemirror_mode": {
    "name": "ipython",
    "version": 2
   },
   "file_extension": ".py",
   "mimetype": "text/x-python",
   "name": "python",
   "nbconvert_exporter": "python",
   "pygments_lexer": "ipython2",
   "version": "2.7.6"
  }
 },
 "nbformat": 4,
 "nbformat_minor": 0
}