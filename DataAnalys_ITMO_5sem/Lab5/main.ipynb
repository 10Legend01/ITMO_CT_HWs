{
 "cells": [
  {
   "cell_type": "code",
   "execution_count": 1,
   "metadata": {
    "collapsed": true
   },
   "outputs": [
    {
     "name": "stdout",
     "output_type": "stream",
     "text": [
      "1090\n"
     ]
    }
   ],
   "source": [
    "import os\n",
    "files = [f for f in os.listdir('messages')]\n",
    "print(len(files))"
   ]
  },
  {
   "cell_type": "code",
   "execution_count": 2,
   "outputs": [],
   "source": [
    "words_set = set()"
   ],
   "metadata": {
    "collapsed": false
   }
  },
  {
   "cell_type": "code",
   "execution_count": 3,
   "outputs": [],
   "source": [
    "def get_words(file):\n",
    "    reader = open(file, 'r')\n",
    "    res = []\n",
    "    for line in reader.readlines():\n",
    "        for word in line.split():\n",
    "            if word != 'Subject:':\n",
    "                res.append(word)\n",
    "    return res\n",
    "\n",
    "def get_lines(file):\n",
    "    reader = open(file, 'r')\n",
    "    return reader.readlines()\n",
    "\n",
    "def get_words_in_lines(file):\n",
    "    lines = get_lines(file)\n",
    "    res = []\n",
    "    for line in lines:\n",
    "        words = []\n",
    "        for word in line.split():\n",
    "            words.append(word)\n",
    "        res.append(words)\n",
    "    return res\n",
    "\n",
    "def add_words(file):\n",
    "    for word in get_words(file):\n",
    "        words_set.add(int(word))"
   ],
   "metadata": {
    "collapsed": false
   }
  },
  {
   "cell_type": "code",
   "execution_count": 4,
   "outputs": [],
   "source": [
    "for file in files:\n",
    "    add_words('messages/' + file)"
   ],
   "metadata": {
    "collapsed": false
   }
  },
  {
   "cell_type": "code",
   "execution_count": 5,
   "outputs": [
    {
     "name": "stdout",
     "output_type": "stream",
     "text": [
      "24728\n"
     ]
    }
   ],
   "source": [
    "print(len(words_set))"
   ],
   "metadata": {
    "collapsed": false
   }
  },
  {
   "cell_type": "code",
   "execution_count": 6,
   "outputs": [
    {
     "name": "stdout",
     "output_type": "stream",
     "text": [
      "0\n"
     ]
    }
   ],
   "source": [
    "print(min(words_set))"
   ],
   "metadata": {
    "collapsed": false
   }
  },
  {
   "cell_type": "code",
   "execution_count": 7,
   "outputs": [
    {
     "name": "stdout",
     "output_type": "stream",
     "text": [
      "24747\n"
     ]
    }
   ],
   "source": [
    "print(max(words_set))"
   ],
   "metadata": {
    "collapsed": false
   }
  },
  {
   "cell_type": "code",
   "execution_count": 8,
   "outputs": [],
   "source": [
    "n = max(words_set) + 1\n",
    "m = len(files)\n",
    "k = int(m * 0.8)"
   ],
   "metadata": {
    "collapsed": false
   }
  },
  {
   "cell_type": "code",
   "execution_count": 9,
   "outputs": [],
   "source": [
    "def words_count(file):\n",
    "    res = [0 for _ in range(n)]\n",
    "    for word in get_words(file):\n",
    "        res[int(word)] = 1\n",
    "    return res\n",
    "\n",
    "def count_words_in_lines(file):\n",
    "    lines = get_words_in_lines(file)\n",
    "    res = []\n",
    "    for line in lines:\n",
    "        count = [0 for _ in range(n)]\n",
    "        for word in line:\n",
    "            if word != 'Subject:':\n",
    "                count[int(word)] += 1\n",
    "        res.append(count)\n",
    "    return res"
   ],
   "metadata": {
    "collapsed": false
   }
  },
  {
   "cell_type": "code",
   "execution_count": 10,
   "outputs": [],
   "source": [
    "def is_legit(filename):\n",
    "    return 'legit' in filename"
   ],
   "metadata": {
    "collapsed": false
   }
  },
  {
   "cell_type": "code",
   "execution_count": 11,
   "outputs": [],
   "source": [
    "row1 = []\n",
    "column1 = []\n",
    "values1 = []\n",
    "\n",
    "row2 = []\n",
    "column2 = []\n",
    "values2 = []\n",
    "\n",
    "y1 = []\n",
    "y2 = []"
   ],
   "metadata": {
    "collapsed": false
   }
  },
  {
   "cell_type": "code",
   "execution_count": 12,
   "outputs": [
    {
     "name": "stdout",
     "output_type": "stream",
     "text": [
      "197085\n",
      "50173\n"
     ]
    }
   ],
   "source": [
    "i = 0\n",
    "\n",
    "for file in files:\n",
    "    counts = words_count('messages/' + file)\n",
    "    for j in range(n):\n",
    "        if counts[j] > 0:\n",
    "            if i < k:\n",
    "                row1.append(i)\n",
    "                column1.append(j)\n",
    "                values1.append(counts[j])\n",
    "            else:\n",
    "                row2.append(i - k)\n",
    "                column2.append(j)\n",
    "                values2.append(counts[j])\n",
    "    y = 0\n",
    "    if is_legit(file):\n",
    "        y = 1\n",
    "    if i < k:\n",
    "        y1.append(y)\n",
    "    else:\n",
    "        y2.append(y)\n",
    "    i += 1\n",
    "\n",
    "# for file in files:\n",
    "#     counts = count_words_in_lines('messages/' + file)\n",
    "#     for l in range(2):\n",
    "#         for j in range(n):\n",
    "#             if counts[l][j] > 0:\n",
    "#                 if i < k:\n",
    "#                     row1.append(i)\n",
    "#                     column1.append(l * n + j)\n",
    "#                     values1.append(counts[l][j])\n",
    "#                 else:\n",
    "#                     row2.append(i - k)\n",
    "#                     column2.append(l * n + j)\n",
    "#                     values2.append(counts[l][j])\n",
    "#     y = 0\n",
    "#     if is_legit(file):\n",
    "#         y = 1\n",
    "#     if i < k:\n",
    "#         y1.append(y)\n",
    "#     else:\n",
    "#         y2.append(y)\n",
    "#     i += 1\n",
    "\n",
    "print(len(row1))\n",
    "print(len(row2))"
   ],
   "metadata": {
    "collapsed": false
   }
  },
  {
   "cell_type": "code",
   "execution_count": 13,
   "outputs": [],
   "source": [
    "import numpy as np\n",
    "\n",
    "from scipy.sparse import csr_matrix"
   ],
   "metadata": {
    "collapsed": false
   }
  },
  {
   "cell_type": "code",
   "execution_count": 14,
   "outputs": [
    {
     "name": "stdout",
     "output_type": "stream",
     "text": [
      "(872, 24748)\n",
      "(218, 24748)\n"
     ]
    }
   ],
   "source": [
    "train = csr_matrix((np.array(values1), (np.array(row1), np.array(column1))))\n",
    "test = csr_matrix((np.array(values2), (np.array(row2), np.array(column2))))\n",
    "print(train.shape)\n",
    "print(test.shape)"
   ],
   "metadata": {
    "collapsed": false
   }
  },
  {
   "cell_type": "code",
   "execution_count": 15,
   "outputs": [],
   "source": [
    "from sklearn.naive_bayes import MultinomialNB"
   ],
   "metadata": {
    "collapsed": false
   }
  },
  {
   "cell_type": "code",
   "execution_count": 16,
   "outputs": [],
   "source": [
    "model = MultinomialNB()\n",
    "#model = MultinomialNB(class_prior=[0.000000000000000001, 1000000000000000000])"
   ],
   "metadata": {
    "collapsed": false
   }
  },
  {
   "cell_type": "code",
   "execution_count": 17,
   "outputs": [
    {
     "data": {
      "text/plain": "MultinomialNB()",
      "text/html": "<style>#sk-container-id-1 {color: black;background-color: white;}#sk-container-id-1 pre{padding: 0;}#sk-container-id-1 div.sk-toggleable {background-color: white;}#sk-container-id-1 label.sk-toggleable__label {cursor: pointer;display: block;width: 100%;margin-bottom: 0;padding: 0.3em;box-sizing: border-box;text-align: center;}#sk-container-id-1 label.sk-toggleable__label-arrow:before {content: \"▸\";float: left;margin-right: 0.25em;color: #696969;}#sk-container-id-1 label.sk-toggleable__label-arrow:hover:before {color: black;}#sk-container-id-1 div.sk-estimator:hover label.sk-toggleable__label-arrow:before {color: black;}#sk-container-id-1 div.sk-toggleable__content {max-height: 0;max-width: 0;overflow: hidden;text-align: left;background-color: #f0f8ff;}#sk-container-id-1 div.sk-toggleable__content pre {margin: 0.2em;color: black;border-radius: 0.25em;background-color: #f0f8ff;}#sk-container-id-1 input.sk-toggleable__control:checked~div.sk-toggleable__content {max-height: 200px;max-width: 100%;overflow: auto;}#sk-container-id-1 input.sk-toggleable__control:checked~label.sk-toggleable__label-arrow:before {content: \"▾\";}#sk-container-id-1 div.sk-estimator input.sk-toggleable__control:checked~label.sk-toggleable__label {background-color: #d4ebff;}#sk-container-id-1 div.sk-label input.sk-toggleable__control:checked~label.sk-toggleable__label {background-color: #d4ebff;}#sk-container-id-1 input.sk-hidden--visually {border: 0;clip: rect(1px 1px 1px 1px);clip: rect(1px, 1px, 1px, 1px);height: 1px;margin: -1px;overflow: hidden;padding: 0;position: absolute;width: 1px;}#sk-container-id-1 div.sk-estimator {font-family: monospace;background-color: #f0f8ff;border: 1px dotted black;border-radius: 0.25em;box-sizing: border-box;margin-bottom: 0.5em;}#sk-container-id-1 div.sk-estimator:hover {background-color: #d4ebff;}#sk-container-id-1 div.sk-parallel-item::after {content: \"\";width: 100%;border-bottom: 1px solid gray;flex-grow: 1;}#sk-container-id-1 div.sk-label:hover label.sk-toggleable__label {background-color: #d4ebff;}#sk-container-id-1 div.sk-serial::before {content: \"\";position: absolute;border-left: 1px solid gray;box-sizing: border-box;top: 0;bottom: 0;left: 50%;z-index: 0;}#sk-container-id-1 div.sk-serial {display: flex;flex-direction: column;align-items: center;background-color: white;padding-right: 0.2em;padding-left: 0.2em;position: relative;}#sk-container-id-1 div.sk-item {position: relative;z-index: 1;}#sk-container-id-1 div.sk-parallel {display: flex;align-items: stretch;justify-content: center;background-color: white;position: relative;}#sk-container-id-1 div.sk-item::before, #sk-container-id-1 div.sk-parallel-item::before {content: \"\";position: absolute;border-left: 1px solid gray;box-sizing: border-box;top: 0;bottom: 0;left: 50%;z-index: -1;}#sk-container-id-1 div.sk-parallel-item {display: flex;flex-direction: column;z-index: 1;position: relative;background-color: white;}#sk-container-id-1 div.sk-parallel-item:first-child::after {align-self: flex-end;width: 50%;}#sk-container-id-1 div.sk-parallel-item:last-child::after {align-self: flex-start;width: 50%;}#sk-container-id-1 div.sk-parallel-item:only-child::after {width: 0;}#sk-container-id-1 div.sk-dashed-wrapped {border: 1px dashed gray;margin: 0 0.4em 0.5em 0.4em;box-sizing: border-box;padding-bottom: 0.4em;background-color: white;}#sk-container-id-1 div.sk-label label {font-family: monospace;font-weight: bold;display: inline-block;line-height: 1.2em;}#sk-container-id-1 div.sk-label-container {text-align: center;}#sk-container-id-1 div.sk-container {/* jupyter's `normalize.less` sets `[hidden] { display: none; }` but bootstrap.min.css set `[hidden] { display: none !important; }` so we also need the `!important` here to be able to override the default hidden behavior on the sphinx rendered scikit-learn.org. See: https://github.com/scikit-learn/scikit-learn/issues/21755 */display: inline-block !important;position: relative;}#sk-container-id-1 div.sk-text-repr-fallback {display: none;}</style><div id=\"sk-container-id-1\" class=\"sk-top-container\"><div class=\"sk-text-repr-fallback\"><pre>MultinomialNB()</pre><b>In a Jupyter environment, please rerun this cell to show the HTML representation or trust the notebook. <br />On GitHub, the HTML representation is unable to render, please try loading this page with nbviewer.org.</b></div><div class=\"sk-container\" hidden><div class=\"sk-item\"><div class=\"sk-estimator sk-toggleable\"><input class=\"sk-toggleable__control sk-hidden--visually\" id=\"sk-estimator-id-1\" type=\"checkbox\" checked><label for=\"sk-estimator-id-1\" class=\"sk-toggleable__label sk-toggleable__label-arrow\">MultinomialNB</label><div class=\"sk-toggleable__content\"><pre>MultinomialNB()</pre></div></div></div></div></div>"
     },
     "execution_count": 17,
     "metadata": {},
     "output_type": "execute_result"
    }
   ],
   "source": [
    "model.fit(train, y1)"
   ],
   "metadata": {
    "collapsed": false
   }
  },
  {
   "cell_type": "code",
   "execution_count": 18,
   "outputs": [],
   "source": [
    "predictions = model.predict(test)"
   ],
   "metadata": {
    "collapsed": false
   }
  },
  {
   "cell_type": "code",
   "execution_count": 19,
   "outputs": [
    {
     "name": "stdout",
     "output_type": "stream",
     "text": [
      "[1, 0, 1, 0, 1, 0, 1, 0, 1, 0, 1, 1, 1, 1, 1, 0, 1, 0, 1, 0, 0, 0, 1, 1, 1, 1, 0, 0, 0, 1, 1, 1, 0, 0, 1, 0, 1, 0, 0, 0, 0, 1, 1, 0, 0, 0, 1, 1, 1, 0, 1, 0, 0, 0, 1, 0, 1, 0, 1, 0, 1, 1, 1, 0, 1, 1, 1, 1, 0, 1, 0, 1, 0, 0, 0, 1, 0, 1, 1, 1, 1, 1, 1, 1, 1, 1, 0, 0, 0, 1, 1, 0, 1, 1, 0, 1, 1, 0, 1, 0, 1, 0, 1, 0, 0, 1, 1, 1, 0, 1, 1, 1, 1, 1, 0, 0, 0, 0, 1, 1, 0, 1, 0, 0, 0, 1, 0, 1, 1, 1, 1, 1, 1, 1, 0, 0, 1, 0, 1, 0, 1, 1, 1, 1, 0, 0, 0, 0, 1, 0, 1, 1, 0, 1, 1, 0, 0, 0, 1, 1, 0, 1, 0, 0, 0, 1, 1, 1, 1, 0, 0, 0, 1, 1, 1, 1, 0, 1, 0, 0, 0, 1, 0, 1, 0, 1, 0, 0, 1, 1, 0, 1, 1, 0, 0, 1, 1, 0, 1, 0, 0, 1, 1, 0, 0, 1, 1, 1, 1, 0, 1, 1, 1, 1, 0, 1, 1, 0]\n"
     ]
    }
   ],
   "source": [
    "print(y2)"
   ],
   "metadata": {
    "collapsed": false
   }
  },
  {
   "cell_type": "code",
   "execution_count": 20,
   "outputs": [
    {
     "name": "stdout",
     "output_type": "stream",
     "text": [
      "[1, 0, 1, 0, 1, 0, 1, 0, 1, 0, 1, 1, 1, 1, 1, 0, 1, 0, 1, 0, 0, 0, 1, 1, 1, 1, 0, 0, 0, 1, 1, 1, 0, 0, 1, 0, 1, 0, 0, 0, 0, 1, 1, 0, 0, 0, 1, 1, 1, 0, 1, 0, 0, 0, 1, 0, 1, 0, 1, 0, 1, 1, 1, 0, 1, 1, 1, 1, 0, 1, 0, 1, 0, 0, 0, 1, 0, 1, 0, 1, 0, 1, 1, 1, 1, 0, 0, 0, 0, 1, 1, 0, 1, 1, 0, 1, 1, 0, 1, 0, 1, 0, 1, 0, 0, 1, 1, 1, 0, 1, 1, 1, 1, 1, 0, 0, 0, 0, 1, 1, 0, 1, 0, 0, 0, 0, 0, 1, 1, 1, 1, 1, 0, 1, 0, 0, 1, 0, 1, 0, 1, 1, 1, 1, 0, 0, 0, 0, 1, 0, 1, 1, 0, 0, 1, 0, 0, 0, 1, 1, 0, 1, 0, 0, 0, 1, 1, 1, 1, 0, 0, 0, 1, 1, 1, 1, 0, 1, 0, 0, 0, 1, 0, 1, 0, 1, 0, 0, 1, 1, 0, 1, 1, 0, 0, 1, 1, 0, 1, 0, 0, 1, 1, 0, 0, 1, 1, 1, 1, 0, 1, 1, 1, 1, 0, 1, 1, 0]\n",
      "218\n"
     ]
    }
   ],
   "source": [
    "predictions_list = predictions.tolist()\n",
    "print(predictions_list)\n",
    "print(len(predictions_list))"
   ],
   "metadata": {
    "collapsed": false
   }
  },
  {
   "cell_type": "code",
   "execution_count": 21,
   "outputs": [
    {
     "name": "stdout",
     "output_type": "stream",
     "text": [
      "6\n"
     ]
    }
   ],
   "source": [
    "cnt = 0\n",
    "\n",
    "for i in range(len(y2)):\n",
    "    if y2[i] != predictions_list[i]:\n",
    "        cnt += 1\n",
    "\n",
    "print(cnt)"
   ],
   "metadata": {
    "collapsed": false
   }
  },
  {
   "cell_type": "code",
   "execution_count": 22,
   "outputs": [],
   "source": [
    "results = [[0 for i in range(2)] for j in range(2)]"
   ],
   "metadata": {
    "collapsed": false
   }
  },
  {
   "cell_type": "code",
   "execution_count": 23,
   "outputs": [],
   "source": [
    "for i in range(len(y2)):\n",
    "    results[y2[i]][predictions_list[i]] += 1"
   ],
   "metadata": {
    "collapsed": false
   }
  },
  {
   "cell_type": "code",
   "execution_count": 24,
   "outputs": [
    {
     "name": "stdout",
     "output_type": "stream",
     "text": [
      "[[96, 0], [6, 116]]\n"
     ]
    }
   ],
   "source": [
    "print(results)"
   ],
   "metadata": {
    "collapsed": false
   }
  },
  {
   "cell_type": "code",
   "execution_count": 33,
   "outputs": [
    {
     "name": "stdout",
     "output_type": "stream",
     "text": [
      "[1 0 1 1 1 0 1 1 1 0 1 1 1 1 1 0 1 0 1 0 0 0 1 1 1 1 1 1 0 1 1 1 0 1 1 0 1\n",
      " 1 0 0 0 1 1 0 0 0 1 1 1 0 1 0 0 0 1 0 1 1 1 0 1 1 1 0 1 1 1 1 1 1 0 1 1 0\n",
      " 1 1 1 1 1 1 1 1 1 1 1 1 0 0 0 1 1 0 1 1 0 1 1 0 1 0 1 1 1 0 0 1 1 1 0 1 1\n",
      " 1 1 1 0 0 1 0 1 1 1 1 0 0 1 1 0 1 1 1 1 1 1 1 0 0 1 0 1 1 1 1 1 1 0 0 1 1\n",
      " 1 0 1 1 0 0 1 1 1 1 1 1 1 1 0 1 0 1 1 1 1 0 0 0 1 1 1 1 0 1 0 0 1 1 0 1 1\n",
      " 1 0 1 1 1 0 1 1 0 1 1 1 0 1 0 0 1 1 0 0 1 1 1 1 0 1 1 1 1 1 1 1 0]\n",
      "[1, 0, 1, 0, 1, 0, 1, 0, 1, 0, 1, 1, 1, 1, 1, 0, 1, 0, 1, 0, 0, 0, 1, 1, 1, 1, 0, 0, 0, 1, 1, 1, 0, 0, 1, 0, 1, 0, 0, 0, 0, 1, 1, 0, 0, 0, 1, 1, 1, 0, 1, 0, 0, 0, 1, 0, 1, 0, 1, 0, 1, 1, 1, 0, 1, 1, 1, 1, 0, 1, 0, 1, 0, 0, 0, 1, 0, 1, 1, 1, 1, 1, 1, 1, 1, 1, 0, 0, 0, 1, 1, 0, 1, 1, 0, 1, 1, 0, 1, 0, 1, 0, 1, 0, 0, 1, 1, 1, 0, 1, 1, 1, 1, 1, 0, 0, 0, 0, 1, 1, 0, 1, 0, 0, 0, 1, 0, 1, 1, 1, 1, 1, 1, 1, 0, 0, 1, 0, 1, 0, 1, 1, 1, 1, 0, 0, 0, 0, 1, 0, 1, 1, 0, 1, 1, 0, 0, 0, 1, 1, 0, 1, 0, 0, 0, 1, 1, 1, 1, 0, 0, 0, 1, 1, 1, 1, 0, 1, 0, 0, 0, 1, 0, 1, 0, 1, 0, 0, 1, 1, 0, 1, 1, 0, 0, 1, 1, 0, 1, 0, 0, 1, 1, 0, 0, 1, 1, 1, 1, 0, 1, 1, 1, 1, 0, 1, 1, 0]\n",
      "[1.0, 7.383223890836928e-214, 1.0, 0.9543171190764471, 1.0, 6.304076017093402e-07, 1.0, 0.9874509866863188, 1.0, 4.175813205624896e-51, 1.0, 1.0, 1.0, 1.0, 1.0, 1.2038324011401152e-35, 1.0, 1.3121254581488342e-27, 1.0, 9.068572299642554e-18, 3.803138832621529e-05, 3.937940738307e-312, 1.0, 1.0, 1.0, 1.0, 0.9586454561929459, 0.9999982930481581, 3.191855443319609e-08, 1.0, 1.0, 1.0, 0.0001343566161241611, 0.9999758379319298, 1.0, 1.041940593665157e-15, 1.0, 0.9999999999881481, 2.2088364879401353e-56, 1.172010794747881e-09, 8.787691079644606e-135, 1.0, 1.0, 6.272493179685844e-112, 7.9171385135673935e-25, 6.7424930289034005e-34, 1.0, 1.0, 1.0, 4.04891016924371e-46, 1.0, 3.6378424018334845e-98, 1.0068113806937128e-157, 9.068572299642554e-18, 1.0, 1.381290084672492e-154, 1.0, 0.9999836829747973, 1.0, 1.038639216876177e-13, 1.0, 1.0, 1.0, 2.2016947804055474e-69, 1.0, 1.0, 1.0, 1.0, 0.9999999473286052, 1.0, 8.79660201216207e-297, 1.0, 0.9999999825112128, 2.2303660947173214e-25, 0.9999999998744897, 1.0, 0.9999998499493016, 1.0, 0.9999999999997726, 1.0, 0.9999999995823146, 1.0, 1.0, 1.0, 1.0, 0.9999994929012395, 4.4949711296405134e-163, 5.26574767027613e-33, 9.200580322610763e-07, 1.0, 1.0, 7.98978466720163e-76, 1.0, 1.0, 3.314022998989349e-52, 1.0, 1.0, 6.231401698360681e-05, 1.0, 0.0, 1.0, 0.999999999536783, 1.0, 1.489964485619492e-114, 1.127062269050825e-135, 1.0, 1.0, 1.0, 3.7383945122970185e-16, 1.0, 1.0, 1.0, 1.0, 1.0, 3.670586190499392e-72, 8.340313989215732e-129, 0.999208980122775, 1.7572696789162485e-17, 1.0, 1.0, 0.9999999494540659, 1.0, 0.0, 6.333995908063622e-19, 0.794807727226349, 0.9999999999818101, 2.0729413140748563e-153, 1.0, 1.0, 1.0, 1.0, 1.0, 0.999728492385064, 1.0, 3.177032960389835e-12, 1.8859496261113e-310, 1.0, 7.080089813334645e-106, 1.0, 0.9999999924076519, 1.0, 1.0, 1.0, 1.0, 4.4259361519744376e-138, 9.798072401567837e-147, 0.7596739190117235, 0.9999964520865616, 1.0, 4.765306376385352e-32, 1.0, 1.0, 6.246594572000349e-35, 1.0191631337953444e-19, 1.0, 0.9999998626128198, 0.9998051640418629, 0.9999999837365864, 1.0, 1.0, 0.9452824911109446, 1.0, 1.2709615735877382e-06, 0.9991206187621102, 5.009562817228647e-77, 1.0, 1.0, 1.0, 1.0, 2.865695080086611e-48, 0.00033023572843802524, 1.7897790944715965e-33, 1.0, 1.0, 1.0, 1.0, 1.316634382553715e-22, 1.0, 1.2403575563663102e-06, 5.589699429735579e-09, 0.9999756992068812, 1.0, 1.1959465809261155e-157, 1.0, 0.9999999923496148, 1.0, 5.6613919171230726e-33, 0.9999999947336562, 1.0, 1.0, 7.631569407216534e-56, 1.0, 1.0, 0.00011154382636283749, 0.9997320072873843, 1.0, 1.0, 1.5179967017139143e-38, 1.0, 1.2712397247689807e-38, 6.178669838099628e-73, 1.0, 1.0, 7.880279552863417e-27, 0.00017948974926207227, 1.0, 1.0, 1.0, 1.0, 2.293043325114764e-17, 1.0, 1.0, 1.0, 1.0, 0.9999796987569468, 1.0, 1.0, 1.2140177052306174e-45]\n"
     ]
    }
   ],
   "source": [
    "from sklearn import metrics\n",
    "scores = list(map(lambda x: x[1], model.predict_proba(test)))\n",
    "# print(predictions)\n",
    "# print(y2)\n",
    "# print(scores)\n",
    "fpr, tpr, _ = metrics.roc_curve(y2, scores)"
   ],
   "metadata": {
    "collapsed": false
   }
  },
  {
   "cell_type": "code",
   "execution_count": 26,
   "outputs": [],
   "source": [
    "import matplotlib.pyplot as plt"
   ],
   "metadata": {
    "collapsed": false
   }
  },
  {
   "cell_type": "code",
   "execution_count": 27,
   "outputs": [
    {
     "data": {
      "text/plain": "<Figure size 640x480 with 1 Axes>",
      "image/png": "[encoded data removed]"
     },
     "metadata": {},
     "output_type": "display_data"
    }
   ],
   "source": [
    "plt.plot(fpr,tpr)\n",
    "plt.show()"
   ],
   "metadata": {
    "collapsed": false
   }
  },
  {
   "cell_type": "code",
   "execution_count": 34,
   "outputs": [],
   "source": [
    "# auc = metrics.roc_auc_score(y2, predictions)\n",
    "auc = metrics.roc_auc_score(y2, scores)\n",
    "# scores"
   ],
   "metadata": {
    "collapsed": false
   }
  },
  {
   "cell_type": "code",
   "execution_count": 35,
   "outputs": [
    {
     "data": {
      "text/plain": "0.9927424863387978"
     },
     "execution_count": 35,
     "metadata": {},
     "output_type": "execute_result"
    }
   ],
   "source": [
    "auc"
   ],
   "metadata": {
    "collapsed": false
   }
  },
  {
   "cell_type": "code",
   "execution_count": 30,
   "outputs": [],
   "source": [
    "# += 1 column 0.9383764480445954\n",
    "# = 1 column 0.9728682170542635\n",
    "# = 2 columns 0.8657346920999912\n",
    "# += 2 columns 0.867476700635833"
   ],
   "metadata": {
    "collapsed": false
   }
  },
  {
   "cell_type": "code",
   "execution_count": 31,
   "outputs": [
    {
     "data": {
      "text/plain": "[<matplotlib.lines.Line2D at 0x23fbc70cbe0>]"
     },
     "execution_count": 31,
     "metadata": {},
     "output_type": "execute_result"
    },
    {
     "data": {
      "text/plain": "<Figure size 640x480 with 1 Axes>",
      "image/png": "[encoded data removed]"
     },
     "metadata": {},
     "output_type": "display_data"
    }
   ],
   "source": [
    "accuracy = []\n",
    "\n",
    "for i in range(-15, 15):\n",
    "    p = 10 ** i\n",
    "    model = MultinomialNB(class_prior=[1, p])\n",
    "    model.fit(train, y1)\n",
    "    predictions = model.predict(test)\n",
    "    cnt = 0\n",
    "    for i in range(len(y2)):\n",
    "        if y2[i] == predictions[i]:\n",
    "            cnt += 1\n",
    "    cnt /= len(y2)\n",
    "    accuracy.append(cnt)\n",
    "\n",
    "plt.plot(accuracy)"
   ],
   "metadata": {
    "collapsed": false
   }
  },
  {
   "cell_type": "code",
   "execution_count": 31,
   "outputs": [],
   "source": [],
   "metadata": {
    "collapsed": false
   }
  }
 ],
 "metadata": {
  "kernelspec": {
   "display_name": "Python 3",
   "language": "python",
   "name": "python3"
  },
  "language_info": {
   "codemirror_mode": {
    "name": "ipython",
    "version": 2
   },
   "file_extension": ".py",
   "mimetype": "text/x-python",
   "name": "python",
   "nbconvert_exporter": "python",
   "pygments_lexer": "ipython2",
   "version": "2.7.6"
  }
 },
 "nbformat": 4,
 "nbformat_minor": 0
}