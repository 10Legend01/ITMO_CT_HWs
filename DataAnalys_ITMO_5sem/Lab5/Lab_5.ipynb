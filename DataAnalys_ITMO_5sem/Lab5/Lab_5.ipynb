{
 "cells": [
  {
   "cell_type": "code",
   "execution_count": 101,
   "outputs": [
    {
     "name": "stdout",
     "output_type": "stream",
     "text": [
      "len(files) = 1090\n"
     ]
    }
   ],
   "source": [
    "import os\n",
    "\n",
    "files = list(map(lambda x: \"messages/\" + x, os.listdir('messages')))\n",
    "assert len(files) == len(set(files))\n",
    "\n",
    "print(f\"{len(files) = }\")"
   ],
   "metadata": {
    "collapsed": false,
    "pycharm": {
     "name": "#%%\n"
    }
   }
  },
  {
   "cell_type": "code",
   "execution_count": 102,
   "outputs": [],
   "source": [
    "def getlines(_file):\n",
    "    with open(_file) as read:\n",
    "        return read.readlines()"
   ],
   "metadata": {
    "collapsed": false,
    "pycharm": {
     "name": "#%%\n"
    }
   }
  },
  {
   "cell_type": "markdown",
   "source": [
    "Проверка всех файлов на единый стандарт:\n",
    "\"\"\"\n",
    "Subject: [0-9|space]+\n",
    "\n",
    "[0-9|space]+\n",
    "\n",
    "\"\"\""
   ],
   "metadata": {
    "collapsed": false
   }
  },
  {
   "cell_type": "code",
   "execution_count": 103,
   "metadata": {
    "collapsed": true
   },
   "outputs": [],
   "source": [
    "def test_file(_file: str):\n",
    "    lines = getlines(_file)\n",
    "    assert len(lines) == 3\n",
    "    line0, line1, line2 = lines\n",
    "\n",
    "    assert len(line1.split()) == 0\n",
    "\n",
    "    def check_words(_words):\n",
    "        for word in _words:\n",
    "            for letter in word:\n",
    "                assert '0' <= letter <= '9'\n",
    "\n",
    "    words = line0.split()\n",
    "    assert words[0] == \"Subject:\"\n",
    "    check_words(words[1:])\n",
    "    check_words(line2.split())\n",
    "\n",
    "for file in files:\n",
    "    test_file(file)"
   ]
  },
  {
   "cell_type": "code",
   "execution_count": 104,
   "outputs": [],
   "source": [
    "def get_header(_file):\n",
    "    return list(map(int, getlines(_file)[0].split()[1:]))\n",
    "\n",
    "def get_message(_file):\n",
    "    return list(map(int, getlines(_file)[2].split()))"
   ],
   "metadata": {
    "collapsed": false,
    "pycharm": {
     "name": "#%%\n"
    }
   }
  },
  {
   "cell_type": "code",
   "execution_count": 105,
   "outputs": [
    {
     "name": "stdout",
     "output_type": "stream",
     "text": [
      "min(all_words) = 0\n",
      "max(all_words) = 24747\n"
     ]
    }
   ],
   "source": [
    "all_words = set()\n",
    "for file in files:\n",
    "    all_words.update(get_header(file))\n",
    "    all_words.update(get_message(file))\n",
    "print(f\"{min(all_words) = }\")\n",
    "print(f\"{max(all_words) = }\")"
   ],
   "metadata": {
    "collapsed": false,
    "pycharm": {
     "name": "#%%\n"
    }
   }
  },
  {
   "cell_type": "code",
   "execution_count": 106,
   "outputs": [],
   "source": [
    "def _get_types_messages(_files):\n",
    "    return [1 if \"legit\" in _file else 0 for _file in _files]\n",
    "\n",
    "def get_train_and_test(_files: list, div=0.8, shuffle=False):\n",
    "    assert 0 < div < 1\n",
    "    if shuffle:\n",
    "        import random\n",
    "        random.shuffle(_files)\n",
    "    _train_files = _files[:int(len(_files) * div)]\n",
    "    _test_files = _files[int(len(_files) * div):]\n",
    "    _y_train = _get_types_messages(_train_files)\n",
    "    _y_test = _get_types_messages(_test_files)\n",
    "    return _train_files, _test_files, _y_train, _y_test"
   ],
   "metadata": {
    "collapsed": false,
    "pycharm": {
     "name": "#%%\n"
    }
   }
  },
  {
   "cell_type": "code",
   "execution_count": 107,
   "outputs": [],
   "source": [
    "from itertools import count\n",
    "max_word = max(all_words) + 1\n",
    "_zeros = [0 for _ in range(max_word)]\n",
    "_zeros2 = [0 for _ in range(2 * max_word)]\n",
    "\n",
    "from scipy.sparse import csr_matrix\n",
    "def to_csr(ma):\n",
    "    return csr_matrix(ma)\n",
    "\n",
    "# Способ векторизации: сколько встретилось\n",
    "def get_matrix_ver0(_files): # Учитывать header и message одинаково\n",
    "    ma = [_zeros.copy() for _ in range(len(_files))]\n",
    "\n",
    "    for file_count, _file in zip(count(0), _files):\n",
    "        for word_int in get_header(_file) + get_message(_file):\n",
    "            ma[file_count][word_int] += 1\n",
    "\n",
    "    return to_csr(ma)\n",
    "\n",
    "# Способ векторизации: сколько встретилось\n",
    "def get_matrix_ver1(_files): # Учитывать header и message раздельно\n",
    "    ma = [_zeros2.copy() for _ in range(len(_files))]\n",
    "\n",
    "    for file_count, _file in zip(count(0), _files):\n",
    "        for word_int in get_header(_file):\n",
    "            ma[file_count][word_int] += 1\n",
    "        for word_int in get_message(_file):\n",
    "            ma[file_count][word_int + max_word] += 1\n",
    "\n",
    "    return to_csr(ma)\n",
    "\n",
    "# Способ векторизации: встретилось или нет\n",
    "def get_matrix_ver2(_files): # Учитывать header и message одинаково\n",
    "    ma = [_zeros.copy() for _ in range(len(_files))]\n",
    "\n",
    "    for file_count, _file in zip(count(0), _files):\n",
    "        for word_int in get_header(_file) + get_message(_file):\n",
    "            ma[file_count][word_int] = 1 # += -> =\n",
    "\n",
    "    return to_csr(ma)\n",
    "\n",
    "# Способ векторизации: встретилось или нет\n",
    "def get_matrix_ver3(_files): # Учитывать header и message раздельно\n",
    "    ma = [_zeros2.copy() for _ in range(len(_files))]\n",
    "\n",
    "    for file_count, _file in zip(count(0), _files):\n",
    "        for word_int in get_header(_file):\n",
    "            ma[file_count][word_int] = 1 # += -> =\n",
    "        for word_int in get_message(_file):\n",
    "            ma[file_count][word_int + max_word] = 1 # += -> =\n",
    "\n",
    "    return to_csr(ma)"
   ],
   "metadata": {
    "collapsed": false,
    "pycharm": {
     "name": "#%%\n"
    }
   }
  },
  {
   "cell_type": "code",
   "execution_count": 108,
   "outputs": [],
   "source": [
    "from sklearn.naive_bayes import MultinomialNB\n",
    "from sklearn import metrics\n",
    "import matplotlib.pyplot as plt\n",
    "\n",
    "model = MultinomialNB()\n",
    "\n",
    "versions = {\n",
    "    get_matrix_ver0: \"Одинаково, сколько встретилось\",\n",
    "    get_matrix_ver1: \"Раздельно, сколько встретилось\",\n",
    "    get_matrix_ver2: \"Одинаково, встретилось или нет\",\n",
    "    get_matrix_ver3: \"Раздельно, встретилось или нет\",\n",
    "}\n",
    "\n",
    "def once(*args, **kwargs):\n",
    "    train_files, test_files, y_train, y_test = get_train_and_test(*args, **kwargs)\n",
    "    for func, description in versions.items():\n",
    "        train = func(train_files)\n",
    "        test = func(test_files)\n",
    "\n",
    "        model.fit(train, y_train)\n",
    "        pred = model.predict(test)\n",
    "\n",
    "        print(\"Ошибок: {} из {}\".format(sum(map(lambda x: 0 if x[0]==x[1] else 1, zip(y_test, pred))), len(y_test)))\n",
    "\n",
    "        scores = list(map(lambda x: x[1], model.predict_proba(test)))\n",
    "        print(\"AUC:\", metrics.roc_auc_score(y_test, scores))\n",
    "\n",
    "        fpr, tpr, _ = metrics.roc_curve(y_test, scores)\n",
    "        plt.plot(fpr,tpr)\n",
    "        plt.title(description)\n",
    "        plt.show()\n",
    "        print()\n",
    "\n",
    "def mean(repeat=5, *args, **kwargs):\n",
    "    for func, description in versions.items():\n",
    "        mean_ma = [0, 0, 0]\n",
    "\n",
    "        print(description+\":\")\n",
    "        for i in range(repeat):\n",
    "            train_files, test_files, y_train, y_test = get_train_and_test(*args, **kwargs, shuffle=True)\n",
    "            train = func(train_files)\n",
    "            test = func(test_files)\n",
    "\n",
    "            model.fit(train, y_train)\n",
    "            pred = model.predict(test)\n",
    "            scores = list(map(lambda x: x[1], model.predict_proba(test)))\n",
    "\n",
    "            mist = sum(map(lambda x: 0 if x[0]==x[1] else 1, zip(y_test, pred)))\n",
    "            auc = metrics.roc_auc_score(y_test, scores)\n",
    "            mean_ma[0] += mist\n",
    "            mean_ma[1] += len(y_test)\n",
    "            mean_ma[2] += auc\n",
    "\n",
    "            print(\"Ошибок: {} из {}; AUC: {}\".format(\n",
    "                mist,\n",
    "                len(y_test),\n",
    "                auc,\n",
    "            ))\n",
    "        print(\"В общем ошибок: {} из {}\\nСредний AUC: {}\".format(\n",
    "            mean_ma[0],\n",
    "            mean_ma[1],\n",
    "            mean_ma[2] / repeat,\n",
    "        ))\n",
    "        print()"
   ],
   "metadata": {
    "collapsed": false,
    "pycharm": {
     "name": "#%%\n"
    }
   }
  },
  {
   "cell_type": "code",
   "execution_count": 109,
   "outputs": [
    {
     "name": "stdout",
     "output_type": "stream",
     "text": [
      "Одинаково, сколько встретилось:\n",
      "Ошибок: 15 из 218; AUC: 0.9751214109227231\n",
      "Ошибок: 12 из 218; AUC: 0.9844912102772143\n",
      "Ошибок: 7 из 218; AUC: 0.986067977915804\n",
      "Ошибок: 11 из 218; AUC: 0.9770810258157961\n",
      "Ошибок: 9 из 218; AUC: 0.9953991650336542\n",
      "В общем ошибок: 54 из 1090\n",
      "Средний AUC: 0.9836321579930385\n",
      "\n",
      "Раздельно, сколько встретилось:\n",
      "Ошибок: 11 из 218; AUC: 0.9831598544469832\n",
      "Ошибок: 9 из 218; AUC: 0.9893892339544514\n",
      "Ошибок: 9 из 218; AUC: 0.9869595058339053\n",
      "Ошибок: 15 из 218; AUC: 0.9795979986197377\n",
      "Ошибок: 9 из 218; AUC: 0.9800101214574899\n",
      "В общем ошибок: 53 из 1090\n",
      "Средний AUC: 0.9838233428625134\n",
      "\n",
      "Одинаково, встретилось или нет:\n",
      "Ошибок: 6 из 218; AUC: 0.9983872336813514\n",
      "Ошибок: 8 из 218; AUC: 0.9973029919932576\n",
      "Ошибок: 2 из 218; AUC: 0.9963109128345916\n",
      "Ошибок: 5 из 218; AUC: 0.9999134723544173\n",
      "Ошибок: 7 из 218; AUC: 0.998472116119175\n",
      "В общем ошибок: 28 из 1090\n",
      "Средний AUC: 0.9980773453965586\n",
      "\n",
      "Раздельно, встретилось или нет:\n",
      "Ошибок: 6 из 218; AUC: 0.9955084745762712\n",
      "Ошибок: 8 из 218; AUC: 0.9973888140161725\n",
      "Ошибок: 8 из 218; AUC: 0.9975120109814688\n",
      "Ошибок: 3 из 218; AUC: 0.9962009286618827\n",
      "Ошибок: 10 из 218; AUC: 0.9906067529829905\n",
      "В общем ошибок: 35 из 1090\n",
      "Средний AUC: 0.9954433962437571\n",
      "\n"
     ]
    }
   ],
   "source": [
    "mean(_files=files)"
   ],
   "metadata": {
    "collapsed": false,
    "pycharm": {
     "name": "#%%\n"
    }
   }
  },
  {
   "cell_type": "code",
   "execution_count": 110,
   "outputs": [
    {
     "name": "stdout",
     "output_type": "stream",
     "text": [
      "Ошибок: 12 из 218\n",
      "AUC: 0.9811731557377049\n"
     ]
    },
    {
     "data": {
      "text/plain": "<Figure size 640x480 with 1 Axes>",
      "image/png": "[encoded data removed]"
     },
     "metadata": {},
     "output_type": "display_data"
    },
    {
     "name": "stdout",
     "output_type": "stream",
     "text": [
      "\n",
      "Ошибок: 14 из 218\n",
      "AUC: 0.9809170081967213\n"
     ]
    },
    {
     "data": {
      "text/plain": "<Figure size 640x480 with 1 Axes>",
      "image/png": "[encoded data removed]"
     },
     "metadata": {},
     "output_type": "display_data"
    },
    {
     "name": "stdout",
     "output_type": "stream",
     "text": [
      "\n",
      "Ошибок: 4 из 218\n",
      "AUC: 0.9994877049180327\n"
     ]
    },
    {
     "data": {
      "text/plain": "<Figure size 640x480 with 1 Axes>",
      "image/png": "[encoded data removed]"
     },
     "metadata": {},
     "output_type": "display_data"
    },
    {
     "name": "stdout",
     "output_type": "stream",
     "text": [
      "\n",
      "Ошибок: 4 из 218\n",
      "AUC: 0.9997438524590163\n"
     ]
    },
    {
     "data": {
      "text/plain": "<Figure size 640x480 with 1 Axes>",
      "image/png": "[encoded data removed]"
     },
     "metadata": {},
     "output_type": "display_data"
    },
    {
     "name": "stdout",
     "output_type": "stream",
     "text": [
      "\n"
     ]
    }
   ],
   "source": [
    "once(files, 0.8, True)"
   ],
   "metadata": {
    "collapsed": false,
    "pycharm": {
     "name": "#%%\n"
    }
   }
  },
  {
   "cell_type": "markdown",
   "source": [
    "### 6 пункт: Измените априорное распределение для выбранной модели таким образом, чтобы число хороших сообщений классифицированных как спам равнялось нулю. При этом точность должна быть максимально возможной.\n",
    "\n",
    "Априорное распределение влияет в основном при принятии решения в спорных моментах.\n",
    "\n",
    "Чтобы гарантировать, что предсказание для любых наборов данных будет удовлетворять условию, необходимо и достаточно предсказывать, что все сообщения будут хорошими:\n",
    "model = MultinomialNB(class_prior=[->0, ->+inf])\n",
    "Таким образом для любых наборов данных будет гарантировано, что число хороших сообщений классифицированных как спам равняется нулю.\n",
    "\n",
    "Если необходимо найти априорное распределение для заранее определенных наборов данных, то можно просто найти такой аргумент b, чтобы условие выполнялось:\n",
    "model = MultinomialNB(class_prior=[1/b, b])\n",
    "Для максимизации можно использовать бинпоиск (Оставим для будущих поколений)\n",
    "\n"
   ],
   "metadata": {
    "collapsed": false
   }
  },
  {
   "cell_type": "code",
   "execution_count": 124,
   "outputs": [
    {
     "name": "stdout",
     "output_type": "stream",
     "text": [
      "mist = 0\n",
      "b = 1000000000000\n"
     ]
    }
   ],
   "source": [
    "train_files, test_files, y_train, y_test = get_train_and_test(files, shuffle=True)\n",
    "train = get_matrix_ver2(train_files)\n",
    "test = get_matrix_ver2(test_files)\n",
    "\n",
    "if True:\n",
    "    model = MultinomialNB(class_prior=[1e-64, 1e64])\n",
    "    model.fit(train, y_train)\n",
    "    pred = model.predict(test)\n",
    "    mist = sum(map(lambda x: 1 if x[0]==1 and x[1]==0 else 0, zip(y_test, pred)))\n",
    "    print(f\"{mist = }\")\n",
    "\n",
    "if True:\n",
    "    b = 1\n",
    "    while True:\n",
    "        model = MultinomialNB(class_prior=[1/b, b])\n",
    "        model.fit(train, y_train)\n",
    "        pred = model.predict(test)\n",
    "        mist = sum(map(lambda x: 1 if x[0]==1 and x[1]==0 else 0, zip(y_test, pred)))\n",
    "        if mist == 0:\n",
    "            break\n",
    "        b *= 10\n",
    "print(f\"{b = }\")"
   ],
   "metadata": {
    "collapsed": false,
    "pycharm": {
     "name": "#%%\n"
    }
   }
  },
  {
   "cell_type": "code",
   "execution_count": 129,
   "outputs": [],
   "source": [
    "train_files, test_files, y_train, y_test = get_train_and_test(files, shuffle=True)\n",
    "train = get_matrix_ver2(train_files)\n",
    "test = get_matrix_ver2(test_files)\n",
    "\n",
    "rng = range(-64, 64)\n",
    "y = list()\n",
    "\n",
    "for i in rng:\n",
    "    b = 2 ** i\n",
    "    model = MultinomialNB(class_prior=[1, b])\n",
    "    model.fit(train, y_train)\n",
    "    pred = model.predict(test)\n",
    "\n",
    "    mist = sum(map(lambda x: 0 if x[0]==x[1] else 1, zip(y_test, pred)))\n",
    "\n",
    "    ## scores = list(map(lambda x: x[1], model.predict_proba(test)))\n",
    "    ## auc = metrics.roc_auc_score(y_test, scores)\n",
    "\n",
    "    # mist = 0\n",
    "    # for left, right in zip(y_test, pred):\n",
    "    #     if left != right:\n",
    "    #         mist += 1\n",
    "\n",
    "    y.append((len(pred) - mist) / len(pred))\n",
    "    ## y.append(auc)\n"
   ],
   "metadata": {
    "collapsed": false,
    "pycharm": {
     "name": "#%%\n"
    }
   }
  },
  {
   "cell_type": "code",
   "execution_count": 130,
   "outputs": [
    {
     "data": {
      "text/plain": "<Figure size 640x480 with 1 Axes>",
      "image/png": "[encoded data removed]"
     },
     "metadata": {},
     "output_type": "display_data"
    }
   ],
   "source": [
    "plt.plot(rng, y)\n",
    "plt.show()"
   ],
   "metadata": {
    "collapsed": false,
    "pycharm": {
     "name": "#%%\n"
    }
   }
  }
 ],
 "metadata": {
  "kernelspec": {
   "display_name": "Python 3",
   "language": "python",
   "name": "python3"
  },
  "language_info": {
   "codemirror_mode": {
    "name": "ipython",
    "version": 2
   },
   "file_extension": ".py",
   "mimetype": "text/x-python",
   "name": "python",
   "nbconvert_exporter": "python",
   "pygments_lexer": "ipython2",
   "version": "2.7.6"
  }
 },
 "nbformat": 4,
 "nbformat_minor": 0
}